{
 "cells": [
  {
   "cell_type": "code",
   "execution_count": 1,
   "metadata": {},
   "outputs": [
    {
     "name": "stderr",
     "output_type": "stream",
     "text": [
      "C:\\Users\\ibelaya\\Anaconda3\\lib\\site-packages\\sklearn\\ensemble\\weight_boosting.py:29: DeprecationWarning: numpy.core.umath_tests is an internal NumPy module and should not be imported. It will be removed in a future NumPy release.\n",
      "  from numpy.core.umath_tests import inner1d\n"
     ]
    }
   ],
   "source": [
    "from sklearn.metrics import mean_squared_error\n",
    "from sklearn.ensemble import RandomForestRegressor\n",
    "from surprise.model_selection import train_test_split\n",
    "\n",
    "import matplotlib.pyplot as plt\n",
    "\n",
    "from tqdm import tqdm\n",
    "\n",
    "from sklearn.feature_extraction.text import TfidfTransformer, CountVectorizer\n",
    "from sklearn.neighbors import NearestNeighbors\n",
    "\n",
    "import pandas as pd\n",
    "import numpy as np\n",
    "\n",
    "from collections import defaultdict, Counter\n",
    "from sklearn.decomposition import TruncatedSVD\n",
    "from scipy.sparse import csr_matrix"
   ]
  },
  {
   "cell_type": "code",
   "execution_count": 2,
   "metadata": {},
   "outputs": [],
   "source": [
    "links = pd.read_csv('links.csv')\n",
    "movies = pd.read_csv('movies.csv')\n",
    "ratings = pd.read_csv('ratings.csv')\n",
    "tags = pd.read_csv('tags.csv')"
   ]
  },
  {
   "cell_type": "code",
   "execution_count": 3,
   "metadata": {},
   "outputs": [],
   "source": [
    "pd.set_option('display.expand_frame_repr', False)"
   ]
  },
  {
   "cell_type": "code",
   "execution_count": 4,
   "metadata": {},
   "outputs": [
    {
     "data": {
      "text/plain": [
       "'Идея -  разбить пользователей на 3 группы:\\n1) нет оценок - рекомендуем топ-20 \\n2) оценили от 5 до 20 фильмов -  рекомендации на основе жанров\\n3) дали больше 20 оценок - SVD и теги '"
      ]
     },
     "execution_count": 4,
     "metadata": {},
     "output_type": "execute_result"
    }
   ],
   "source": [
    "'''Идея -  разбить пользователей на 3 группы:\n",
    "1) нет оценок - рекомендуем топ-20 \n",
    "2) оценили от 5 до 20 фильмов -  рекомендации на основе жанров\n",
    "3) дали больше 20 оценок - SVD и теги ''' "
   ]
  },
  {
   "cell_type": "code",
   "execution_count": 5,
   "metadata": {},
   "outputs": [],
   "source": [
    "user_id = 1"
   ]
  },
  {
   "cell_type": "code",
   "execution_count": 6,
   "metadata": {},
   "outputs": [],
   "source": [
    "user_ratings = ratings[ratings['userId'] == user_id]"
   ]
  },
  {
   "cell_type": "code",
   "execution_count": 7,
   "metadata": {},
   "outputs": [],
   "source": [
    "user_movies = movies[movies['movieId'].isin(user_ratings.movieId)]"
   ]
  },
  {
   "cell_type": "code",
   "execution_count": 8,
   "metadata": {},
   "outputs": [
    {
     "name": "stdout",
     "output_type": "stream",
     "text": [
      "amount =  232\n"
     ]
    }
   ],
   "source": [
    "amount = user_movies.shape[0]\n",
    "print('amount = ', amount)"
   ]
  },
  {
   "cell_type": "code",
   "execution_count": 9,
   "metadata": {},
   "outputs": [
    {
     "name": "stderr",
     "output_type": "stream",
     "text": [
      "100%|████████████████████████████████████████████████████████████████████████████| 1572/1572 [00:00<00:00, 4294.84it/s]\n"
     ]
    },
    {
     "name": "stdout",
     "output_type": "stream",
     "text": [
      "Godfather, The (1972)\n",
      "Terminator 2: Judgment Day (1991)\n",
      "Aliens (1986)\n",
      "Die Hard (1988)\n",
      "Godfather: Part II, The (1974)\n",
      "Jaws (1975)\n",
      "Breakfast Club, The (1985)\n",
      "Ferris Bueller's Day Off (1986)\n",
      "Star Trek II: The Wrath of Khan (1982)\n",
      "Hunt for Red October, The (1990)\n",
      "Christmas Story, A (1983)\n",
      "Mars Attacks! (1996)\n",
      "Sixth Sense, The (1999)\n",
      "Stand by Me (1986)\n",
      "Snatch (2000)\n",
      "Aladdin (1992)\n",
      "Star Trek: First Contact (1996)\n",
      "Twelve Monkeys (a.k.a. 12 Monkeys) (1995)\n",
      "Airplane! (1980)\n",
      "Untouchables, The (1987)\n"
     ]
    }
   ],
   "source": [
    "if amount <= 5:\n",
    "    #TopRecommender\n",
    "    class TopRecommender(object):\n",
    "        def fit(self, train_data):\n",
    "            count = Counter(train_data['movieId'])\n",
    "            self.predictions = count.most_common()\n",
    "        def predict(self, user_id, n_recommendations=10):\n",
    "            return self.predictions[:n_recommendations]  \n",
    "    model = TopRecommender()\n",
    "    model.fit(ratings)\n",
    "    recoms = model.predict(user_id)\n",
    "\n",
    "    for rec in recoms:\n",
    "        print(movies[movies.movieId == rec[0]].iloc[0].title)\n",
    "elif 5 < amount <= 20:\n",
    "    #ContentBased\n",
    "    def change_string(s):\n",
    "        return ' '.join(s.replace(' ', '').replace('-', '').split('|'))\n",
    "\n",
    "    movie_genres = [change_string(g) for g in movies.genres.values]\n",
    "\n",
    "    count_vect = CountVectorizer()\n",
    "    X_train_counts = count_vect.fit_transform(movie_genres)\n",
    "\n",
    "    tfidf_transformer = TfidfTransformer()\n",
    "    X_train_tfidf = tfidf_transformer.fit_transform(X_train_counts)\n",
    "\n",
    "    movie_id_to_index = {}\n",
    "\n",
    "    movie_ids = movies.movieId\n",
    "\n",
    "    for index, movie_id in enumerate(movie_ids):\n",
    "        movie_id_to_index[movie_id] = index\n",
    "\n",
    "        \n",
    "    #получаем индексы фильмов\n",
    "    movie_indexes = []\n",
    "\n",
    "    for movie_id in user_movies.movieId:\n",
    "        movie_indexes.append(movie_id_to_index[movie_id])\n",
    "\n",
    "    #набор векторов жанров\n",
    "    data = []\n",
    "    target = user_ratings.rating\n",
    "        \n",
    "    #используем строки матрицы для создания векторов фильмов\n",
    "    #i = 0\n",
    "    data_to_index = {}\n",
    "    for movie_index in movie_indexes:\n",
    "        row = X_train_tfidf.getrow(movie_index).toarray()[0]\n",
    "        data.append(row)\n",
    "         \n",
    "    X_train, X_test, y_train, y_test = train_test_split(data, target, test_size=0.3)\n",
    "    model = RandomForestRegressor()\n",
    "    model.fit(X_train, y_train)\n",
    "    predictions = model.predict(X_test)\n",
    "    print('mean_squared_error = ', mean_squared_error(y_test, predictions))\n",
    "\n",
    "    #предсказываем оценки для еще не просмотренных фильмов\n",
    "    new_movies = movies[~movies.movieId.isin(user_movies.movieId)]\n",
    "    new_movie_ids = []\n",
    "    for movie_id in new_movies.movieId.values:\n",
    "        movie_index = movie_id_to_index[movie_id]\n",
    "        row = X_train_tfidf.getrow(movie_index).toarray()[0]\n",
    "        new_movie_ids.append(row)\n",
    "\n",
    "    scores = model.predict(new_movie_ids)\n",
    "    #рекомендуем 20 фильмов\n",
    "    for index in list(reversed(np.argsort(scores)))[:20]:\n",
    "        print(new_movies.iloc[index].title)\n",
    "else:\n",
    "    #рекомендации на основе SVD разложения\n",
    "    n_components = 30\n",
    "    rows = ratings.userId.apply(lambda userId: userId-1)\n",
    "    cols = ratings.movieId.apply(lambda movieId: movieId-1)\n",
    "    vals = ratings.rating\n",
    " \n",
    "    interactions_matrix = csr_matrix((vals, (rows, cols)))\n",
    "    model = TruncatedSVD(n_components = n_components, algorithm='arpack')\n",
    "    model.fit(interactions_matrix)\n",
    "\n",
    "    user_interactions = interactions_matrix.getrow(user_id - 1)\n",
    "    user_low_dimensions = model.transform(user_interactions)\n",
    "\n",
    "    user_predictions = model.inverse_transform(user_low_dimensions)[0]\n",
    "    recommendations = []\n",
    "\n",
    "    max_n = 200\n",
    "    #Пробегаем по колонкам в порядке убывания предсказанного значения\n",
    "    for movie_idx in reversed(np.argsort(user_predictions)):\n",
    "        #Добавляем фильм к рекомендациям только если пользователь его еще не смотрел\n",
    "        if user_interactions[0, movie_idx] == 0.0:\n",
    "            movie_id = movie_idx + 1\n",
    "            score = user_predictions[movie_idx]\n",
    "            recommendations.append((movie_id, score))\n",
    "            \n",
    "            if (len(recommendations) >= max_n):\n",
    "                break\n",
    "        \n",
    "    #print('recommendations = ', recommendations)\n",
    "    #for rec in recommendations:\n",
    "        #print(movies[movies.movieId == rec[0]].iloc[0].title)\n",
    "      \n",
    "    #добавим учет тегов \n",
    "    movies_with_tags = movies.join(tags.set_index('movieId'), on='movieId')\n",
    "    movies_with_tags.dropna(inplace=True)\n",
    "    tag_strings = []\n",
    "    for movie, group in tqdm(movies_with_tags.groupby('title')):\n",
    "        tag_strings.append(' '.join([str(s).replace(' ', '').replace('-', '') for s in group.tag.values]))\n",
    "\n",
    "    count_vect = CountVectorizer()\n",
    "    X_train_counts = count_vect.fit_transform(tag_strings)\n",
    "    tfidf_transformer = TfidfTransformer()\n",
    "    X_train_tfidf = tfidf_transformer.fit_transform(X_train_counts)\n",
    "    \n",
    "    movie_id_to_index = {}\n",
    "    movie_ids = movies_with_tags.movieId.unique()\n",
    "\n",
    "    for index, movie_id in enumerate(movie_ids):\n",
    "        movie_id_to_index[movie_id] = index\n",
    "        \n",
    "    #отбираем строки относящееся к данному user\n",
    "    user_ratings = ratings[ratings['userId'] == user_id]\n",
    "    user_ratings = user_ratings[user_ratings['movieId'].isin(tags.movieId)]\n",
    "\n",
    "    movies_ = movies[movies['movieId'].isin(tags.movieId)]\n",
    "    user_movies = movies_[movies_['movieId'].isin(user_ratings.movieId)]\n",
    "    \n",
    "    #получаем индексы фильмов\n",
    "    #movie_indexes = np.arange(len(movie_ids))\n",
    "    movie_indexes = []\n",
    "    for movie_id in user_movies.movieId:\n",
    "        movie_indexes.append(movie_id_to_index[movie_id])\n",
    "\n",
    "    #набор векторов тегов\n",
    "    data = []\n",
    "    target = user_ratings.rating\n",
    "    \n",
    "    #используем строки матрицы для создания векторов фильмов\n",
    "    for movie_index in movie_indexes:\n",
    "        row = X_train_tfidf.getrow(movie_index).toarray()[0]\n",
    "        data.append(row)\n",
    "        \n",
    "    model2 = RandomForestRegressor()\n",
    "    model2.fit(data, target)\n",
    "\n",
    "    #добавим к результатам предсказаний по SVD то, что получили по тегам\n",
    "    pred_data = []\n",
    "    for rec in recommendations:\n",
    "        movieId = rec[0]\n",
    "        if movieId in movie_ids:\n",
    "            pred_data.append(X_train_tfidf.getrow(movie_id_to_index[movieId]).toarray()[0])\n",
    "        else:\n",
    "            pred_data.append([0] * X_train_tfidf.shape[1])\n",
    "\n",
    "    predictions2 = model2.predict(pred_data)\n",
    "    predictions2 = predictions2 / (np.max(predictions2) + np.max([x[1] for x in recommendations]))\n",
    "\n",
    "    #к score из SVD прибавим score по тегам\n",
    "    result_recommendations = np.array([x[1] for x in recommendations]) + predictions2\n",
    "\n",
    "    #print('recommendations = ', recommendations)\n",
    "    #print('predictions2 = ', predictions2)\n",
    "    #print('result_recommendations = ', result_recommendations)\n",
    "    for i, rec in enumerate(sorted(result_recommendations, reverse=True)[:20]):\n",
    "        print(movies[movies.movieId == recommendations[i][0]].iloc[0].title) \n",
    "       "
   ]
  }
 ],
 "metadata": {
  "kernelspec": {
   "display_name": "Python 3",
   "language": "python",
   "name": "python3"
  },
  "language_info": {
   "codemirror_mode": {
    "name": "ipython",
    "version": 3
   },
   "file_extension": ".py",
   "mimetype": "text/x-python",
   "name": "python",
   "nbconvert_exporter": "python",
   "pygments_lexer": "ipython3",
   "version": "3.6.5"
  }
 },
 "nbformat": 4,
 "nbformat_minor": 2
}
