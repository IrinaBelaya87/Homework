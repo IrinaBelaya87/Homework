{
 "cells": [
  {
   "cell_type": "code",
   "execution_count": 1,
   "metadata": {},
   "outputs": [
    {
     "data": {
      "text/plain": [
       "'Прошу не проверять до 28 февраля!!!'"
      ]
     },
     "execution_count": 1,
     "metadata": {},
     "output_type": "execute_result"
    }
   ],
   "source": [
    "'''Прошу не проверять до 28 февраля!!!'''"
   ]
  },
  {
   "cell_type": "code",
   "execution_count": 2,
   "metadata": {},
   "outputs": [],
   "source": [
    "%matplotlib inline\n",
    "import cv2\n",
    "import random\n",
    "import numpy as np\n",
    "import pandas as pd\n",
    "from matplotlib import pyplot as plt\n",
    "import tensorflow as tf\n",
    "from tensorflow import keras"
   ]
  },
  {
   "cell_type": "code",
   "execution_count": 3,
   "metadata": {},
   "outputs": [
    {
     "data": {
      "text/plain": [
       "'Загружаем разметку'"
      ]
     },
     "execution_count": 3,
     "metadata": {},
     "output_type": "execute_result"
    }
   ],
   "source": [
    "'''Загружаем разметку'''"
   ]
  },
  {
   "cell_type": "code",
   "execution_count": 4,
   "metadata": {},
   "outputs": [],
   "source": [
    "import os\n",
    "import json\n",
    "from glob import glob\n",
    "\n",
    "# TODO: скачайте данные и сохраните в директорию:\n",
    "TRAIN_PREFIX = './data/fish/train'\n",
    "\n",
    "def load_boxes():\n",
    "    boxes = dict()\n",
    "    for path in glob('./data/fish/boxes/*.json'):\n",
    "        label = os.path.basename(path).split('_', 1)[0]\n",
    "        with open(path) as src:\n",
    "            boxes[label] = json.load(src)\n",
    "            for annotation in boxes[label]:\n",
    "                basename = os.path.basename(annotation['filename'])\n",
    "                annotation['filename'] = os.path.join(TRAIN_PREFIX, label.upper(), basename)\n",
    "            for annotation in boxes[label]:\n",
    "                for rect in annotation['annotations']:\n",
    "                    rect['x'] += rect['width'] / 2\n",
    "                    rect['y'] += rect['height'] / 2\n",
    "    return boxes\n",
    "\n",
    "def draw_boxes(annotation, rectangles=None, image_size=None):\n",
    "    \n",
    "    def _draw(img, rectangles, scale_x, scale_y, color=(0, 255, 0)):\n",
    "        for rect in rectangles:\n",
    "            pt1 = (int((rect['x'] - rect['width'] / 2) * scale_x),\n",
    "                   int((rect['y'] - rect['height'] / 2) * scale_y))\n",
    "            pt2 = (int((rect['x'] + rect['width'] / 2) * scale_x),\n",
    "                   int((rect['y'] + rect['height'] / 2) * scale_y))\n",
    "            img = cv2.rectangle(img.copy(), pt1, pt2, \n",
    "                                color=color, thickness=4)\n",
    "        return img\n",
    "    \n",
    "    scale_x, scale_y = 1., 1.\n",
    "    \n",
    "    img = cv2.imread(annotation['filename'], cv2.IMREAD_COLOR)[...,::-1]\n",
    "    if image_size is not None:\n",
    "        scale_x = 1. * image_size[0] / img.shape[1]\n",
    "        scale_y = 1. * image_size[1] / img.shape[0]\n",
    "        img = cv2.resize(img, image_size)\n",
    "        \n",
    "    img = _draw(img, annotation['annotations'], scale_x, scale_y)\n",
    "    \n",
    "    if rectangles is not None:\n",
    "        img = _draw(img, rectangles, 1., 1., (255, 0, 0))\n",
    "\n",
    "    return img"
   ]
  },
  {
   "cell_type": "code",
   "execution_count": 5,
   "metadata": {},
   "outputs": [
    {
     "data": {
      "text/plain": [
       "'Визуализируем разметку'"
      ]
     },
     "execution_count": 5,
     "metadata": {},
     "output_type": "execute_result"
    }
   ],
   "source": [
    "'''Визуализируем разметку'''"
   ]
  },
  {
   "cell_type": "code",
   "execution_count": 6,
   "metadata": {},
   "outputs": [],
   "source": [
    "boxes = load_boxes()  # разметка детекций"
   ]
  },
  {
   "cell_type": "code",
   "execution_count": 7,
   "metadata": {},
   "outputs": [
    {
     "data": {
      "text/html": [
       "<div>\n",
       "<style scoped>\n",
       "    .dataframe tbody tr th:only-of-type {\n",
       "        vertical-align: middle;\n",
       "    }\n",
       "\n",
       "    .dataframe tbody tr th {\n",
       "        vertical-align: top;\n",
       "    }\n",
       "\n",
       "    .dataframe thead th {\n",
       "        text-align: right;\n",
       "    }\n",
       "</style>\n",
       "<table border=\"1\" class=\"dataframe\">\n",
       "  <thead>\n",
       "    <tr style=\"text-align: right;\">\n",
       "      <th></th>\n",
       "      <th>class</th>\n",
       "      <th>count</th>\n",
       "    </tr>\n",
       "  </thead>\n",
       "  <tbody>\n",
       "  </tbody>\n",
       "</table>\n",
       "</div>"
      ],
      "text/plain": [
       "Empty DataFrame\n",
       "Columns: [class, count]\n",
       "Index: []"
      ]
     },
     "execution_count": 7,
     "metadata": {},
     "output_type": "execute_result"
    }
   ],
   "source": [
    "pd.DataFrame([(k, len(v)) for k, v in boxes.items()],\n",
    "             columns=['class', 'count'])"
   ]
  },
  {
   "cell_type": "code",
   "execution_count": 8,
   "metadata": {},
   "outputs": [
    {
     "ename": "KeyError",
     "evalue": "'lag'",
     "output_type": "error",
     "traceback": [
      "\u001b[1;31m---------------------------------------------------------------------------\u001b[0m",
      "\u001b[1;31mKeyError\u001b[0m                                  Traceback (most recent call last)",
      "\u001b[1;32m<ipython-input-8-562ed529897e>\u001b[0m in \u001b[0;36m<module>\u001b[1;34m\u001b[0m\n\u001b[0;32m      1\u001b[0m \u001b[0mplt\u001b[0m\u001b[1;33m.\u001b[0m\u001b[0mfigure\u001b[0m\u001b[1;33m(\u001b[0m\u001b[0mfigsize\u001b[0m\u001b[1;33m=\u001b[0m\u001b[1;33m(\u001b[0m\u001b[1;36m6\u001b[0m\u001b[1;33m,\u001b[0m \u001b[1;36m6\u001b[0m\u001b[1;33m)\u001b[0m\u001b[1;33m,\u001b[0m \u001b[0mdpi\u001b[0m\u001b[1;33m=\u001b[0m\u001b[1;36m120\u001b[0m\u001b[1;33m)\u001b[0m\u001b[1;33m\u001b[0m\u001b[1;33m\u001b[0m\u001b[0m\n\u001b[1;32m----> 2\u001b[1;33m \u001b[0mimg\u001b[0m \u001b[1;33m=\u001b[0m \u001b[0mdraw_boxes\u001b[0m\u001b[1;33m(\u001b[0m\u001b[0mboxes\u001b[0m\u001b[1;33m[\u001b[0m\u001b[1;34m'lag'\u001b[0m\u001b[1;33m]\u001b[0m\u001b[1;33m[\u001b[0m\u001b[1;36m17\u001b[0m\u001b[1;33m]\u001b[0m\u001b[1;33m)\u001b[0m\u001b[1;33m\u001b[0m\u001b[1;33m\u001b[0m\u001b[0m\n\u001b[0m\u001b[0;32m      3\u001b[0m \u001b[0mplt\u001b[0m\u001b[1;33m.\u001b[0m\u001b[0mimshow\u001b[0m\u001b[1;33m(\u001b[0m\u001b[0mimg\u001b[0m\u001b[1;33m)\u001b[0m\u001b[1;33m\u001b[0m\u001b[1;33m\u001b[0m\u001b[0m\n\u001b[0;32m      4\u001b[0m \u001b[0mplt\u001b[0m\u001b[1;33m.\u001b[0m\u001b[0mtitle\u001b[0m\u001b[1;33m(\u001b[0m\u001b[1;34m'{}x{}'\u001b[0m\u001b[1;33m.\u001b[0m\u001b[0mformat\u001b[0m\u001b[1;33m(\u001b[0m\u001b[1;33m*\u001b[0m\u001b[0mimg\u001b[0m\u001b[1;33m.\u001b[0m\u001b[0mshape\u001b[0m\u001b[1;33m)\u001b[0m\u001b[1;33m)\u001b[0m\u001b[1;33m;\u001b[0m\u001b[1;33m\u001b[0m\u001b[1;33m\u001b[0m\u001b[0m\n",
      "\u001b[1;31mKeyError\u001b[0m: 'lag'"
     ]
    },
    {
     "data": {
      "text/plain": [
       "<Figure size 720x720 with 0 Axes>"
      ]
     },
     "metadata": {},
     "output_type": "display_data"
    }
   ],
   "source": [
    "plt.figure(figsize=(6, 6), dpi=120)\n",
    "img = draw_boxes(boxes['lag'][17])\n",
    "plt.imshow(img)\n",
    "plt.title('{}x{}'.format(*img.shape));"
   ]
  },
  {
   "cell_type": "code",
   "execution_count": null,
   "metadata": {},
   "outputs": [],
   "source": [
    "'''Распределение размеров разметки'''"
   ]
  },
  {
   "cell_type": "code",
   "execution_count": null,
   "metadata": {},
   "outputs": [],
   "source": [
    "annotations = sum([box['annotations']\n",
    "                  for box in sum(boxes.values(), [])], [])\n",
    "\n",
    "widths = [rect['width'] for rect in annotations]\n",
    "heights = [rect['height'] for rect in annotations]\n",
    "\n",
    "plt.hist(widths)\n",
    "plt.hist(heights);"
   ]
  },
  {
   "cell_type": "code",
   "execution_count": null,
   "metadata": {},
   "outputs": [],
   "source": [
    "'''Экстрактор признаков'''"
   ]
  },
  {
   "cell_type": "code",
   "execution_count": null,
   "metadata": {},
   "outputs": [],
   "source": [
    "IMG_HEIGHT = 750\n",
    "IMG_WIDTH = 1200\n",
    "\n",
    "features = keras.applications.vgg16.VGG16(include_top=False,\n",
    "                                          weights='imagenet',\n",
    "                                          input_shape=(IMG_HEIGHT, IMG_WIDTH, 3))\n",
    "\n",
    "feature_tensor = features.layers[-1].output\n",
    "\n",
    "# дообучаем последние 5 слоев\n",
    "for layer in features.layers[:-5]:\n",
    "    layer.trainable = False"
   ]
  },
  {
   "cell_type": "code",
   "execution_count": null,
   "metadata": {},
   "outputs": [],
   "source": [
    "'''Сетка якорей (anchor grid)'''"
   ]
  },
  {
   "cell_type": "code",
   "execution_count": null,
   "metadata": {},
   "outputs": [],
   "source": [
    "FEATURE_SHAPE = (feature_tensor.shape[1].value,\n",
    "                 feature_tensor.shape[2].value)\n",
    "\n",
    "GRID_STEP_H = IMG_HEIGHT / FEATURE_SHAPE[0]\n",
    "GRID_STEP_W = IMG_WIDTH / FEATURE_SHAPE[1]\n",
    "\n",
    "ANCHOR_WIDTH = 150.\n",
    "ANCHOR_HEIGHT = 150. \n",
    "\n",
    "ANCHOR_CENTERS = np.mgrid[GRID_STEP_H/2:IMG_HEIGHT:GRID_STEP_H,\n",
    "                          GRID_STEP_W/2:IMG_WIDTH:GRID_STEP_W]"
   ]
  },
  {
   "cell_type": "code",
   "execution_count": null,
   "metadata": {},
   "outputs": [],
   "source": [
    "def iou(rect, x_scale, y_scale, anchor_x, anchor_y,\n",
    "        anchor_w=ANCHOR_WIDTH, anchor_h=ANCHOR_HEIGHT):\n",
    "    \n",
    "    rect_x1 = (rect['x'] - rect['width'] / 2) * x_scale\n",
    "    rect_x2 = (rect['x'] + rect['width'] / 2) * x_scale\n",
    "    \n",
    "    rect_y1 = (rect['y'] - rect['height'] / 2) * y_scale\n",
    "    rect_y2 = (rect['y'] + rect['height'] / 2) * y_scale\n",
    "    \n",
    "    anch_x1, anch_x2 = anchor_x - anchor_w / 2, anchor_x + anchor_w / 2\n",
    "    anch_y1, anch_y2 = anchor_y - anchor_h / 2, anchor_y + anchor_h / 2\n",
    "    \n",
    "    dx = (min(rect_x2, anch_x2) - max(rect_x1, anch_x1))\n",
    "    dy = (min(rect_y2, anch_y2) - max(rect_y1, anch_y1))\n",
    "    \n",
    "    intersection = dx * dy if (dx > 0 and dy > 0) else 0.\n",
    "    \n",
    "    anch_square = (anch_x2 - anch_x1) * (anch_y2 - anch_y1)\n",
    "    rect_square = (rect_x2 - rect_x1) * (rect_y2 - rect_y1)\n",
    "    union = anch_square + rect_square - intersection\n",
    "    \n",
    "    return intersection / union\n",
    "\n",
    "def encode_anchors(annotation, img_shape, iou_thr=0.5):\n",
    "    encoded = np.zeros(shape=(FEATURE_SHAPE[0],\n",
    "                              FEATURE_SHAPE[1], 5), dtype=np.float32)\n",
    "    x_scale = 1. * IMG_WIDTH / img_shape[1]\n",
    "    y_scale = 1. * IMG_HEIGHT / img_shape[0]\n",
    "    for rect in annotation['annotations']:\n",
    "        scores = []\n",
    "        for row in range(FEATURE_SHAPE[0]):\n",
    "            for col in range(FEATURE_SHAPE[1]):\n",
    "                anchor_x = ANCHOR_CENTERS[1, row, col]\n",
    "                anchor_y = ANCHOR_CENTERS[0, row, col]\n",
    "                score = iou(rect, x_scale, y_scale, anchor_x, anchor_y)\n",
    "                scores.append((score, anchor_x, anchor_y, row, col))\n",
    "        \n",
    "        scores = sorted(scores, reverse=True)\n",
    "        if scores[0][0] < iou_thr:\n",
    "            scores = [scores[0]]  # default anchor\n",
    "        else:\n",
    "            scores = [e for e in scores if e[0] > iou_thr]\n",
    "\n",
    "        for score, anchor_x, anchor_y, row, col in scores:\n",
    "            dx = (anchor_x - rect['x'] * x_scale) / ANCHOR_WIDTH\n",
    "            dy = (anchor_y - rect['y'] * y_scale) / ANCHOR_HEIGHT\n",
    "            dw = (ANCHOR_WIDTH - rect['width'] * x_scale) / ANCHOR_WIDTH\n",
    "            dh = (ANCHOR_HEIGHT - rect['height'] * y_scale) / ANCHOR_HEIGHT\n",
    "            encoded[row, col] = [1., dx, dy, dw, dh]\n",
    "            \n",
    "    return encoded\n",
    "\n",
    "def _sigmoid(x):\n",
    "    return 1. / (1. + np.exp(-x))\n",
    "\n",
    "def decode_prediction(prediction, conf_thr=0.1):\n",
    "    rectangles = []\n",
    "    for row in range(FEATURE_SHAPE[0]):\n",
    "        for col in range(FEATURE_SHAPE[1]):\n",
    "            logit, dx, dy, dw, dh = prediction[row, col]\n",
    "            conf = _sigmoid(logit)\n",
    "            if conf > conf_thr:\n",
    "                anchor_x = ANCHOR_CENTERS[1, row, col]\n",
    "                anchor_y = ANCHOR_CENTERS[0, row, col]\n",
    "                rectangles.append({'x': anchor_x - dx * ANCHOR_WIDTH,\n",
    "                                   'y': anchor_y - dy * ANCHOR_HEIGHT,\n",
    "                                   'width': ANCHOR_WIDTH - dw * ANCHOR_WIDTH,\n",
    "                                   'height': ANCHOR_HEIGHT - dh * ANCHOR_HEIGHT,\n",
    "                                   'conf': conf})\n",
    "    return rectangles"
   ]
  },
  {
   "cell_type": "code",
   "execution_count": null,
   "metadata": {},
   "outputs": [],
   "source": [
    "'''Валидация енкодинга/декодинга'''"
   ]
  },
  {
   "cell_type": "code",
   "execution_count": null,
   "metadata": {},
   "outputs": [],
   "source": [
    "example = boxes['alb'][175]\n",
    "cl = [0, 0, 1, 0, 0, 0]\n",
    "\n",
    "encoded = encode_anchors(example, (IMG_HEIGHT, IMG_WIDTH), cl)\n",
    "\n",
    "decoded = decode_prediction(encoded, conf_thr=0.5)\n",
    "decoded = sorted(decoded, key = lambda e: -e['conf'])\n",
    "\n",
    "plt.figure(figsize=(6, 6), dpi=120)\n",
    "plt.imshow(draw_boxes(example, decoded[:10]))"
   ]
  },
  {
   "cell_type": "code",
   "execution_count": null,
   "metadata": {},
   "outputs": [],
   "source": [
    "'''Функция потерь'''"
   ]
  },
  {
   "cell_type": "code",
   "execution_count": null,
   "metadata": {},
   "outputs": [],
   "source": [
    "K = tf.keras.backend\n",
    "from keras.utils import to_categorical\n",
    "\n",
    "\n",
    "\n",
    "def confidence_loss(y_true, y_pred):\n",
    "    #categorical_labels = to_categorical(y_true[..., 5], num_classes=None)\n",
    "    #categorical_labels2 = to_categorical(y_pred[..., 5], num_classes=None)\n",
    "    #conf_loss = K.categorical_crossentropy (y_true[..., 5], \n",
    "    #                                   y_pred[..., 5],\n",
    "    #                                 from_logits=False)\n",
    "    conf_loss = K.binary_crossentropy (y_true[..., 5], \n",
    "                                      y_pred[..., 5],\n",
    "                                    from_logits=True)    \n",
    "    return conf_loss\n",
    "\n",
    "def smooth_l1(y_true, y_pred):\n",
    "    abs_loss = K.abs(y_true[..., 1:] - y_pred[..., 1:])\n",
    "    square_loss = 0.5 * K.square(y_true[..., 1:] - y_pred[..., 1:])\n",
    "    mask = K.cast(K.greater(abs_loss, 1.), 'float32')\n",
    "    total_loss = (abs_loss - 0.5) * mask + 0.5 * square_loss * (1. - mask)\n",
    "    return K.sum(total_loss, axis=-1)\n",
    "\n",
    "def total_loss(y_true, y_pred, neg_pos_ratio=3):\n",
    "    batch_size = K.shape(y_true)[0]\n",
    "    \n",
    "    # TODO: добавьте функцию потерь для классификации детекции\n",
    "    \n",
    "    y_true = K.reshape(y_true, (batch_size, -1, 11))\n",
    "    y_pred = K.reshape(y_pred, (batch_size, -1, 11))\n",
    "\n",
    "    # confidence loss\n",
    "    conf_loss = confidence_loss(y_true, y_pred)\n",
    "    \n",
    "    # smooth l1 loss\n",
    "    loc_loss = smooth_l1(y_true, y_pred)\n",
    "    \n",
    "    # positive examples loss\n",
    "    pos_conf_loss = K.sum(conf_loss * y_true[..., 0], axis=-1)\n",
    "    pos_loc_loss = K.sum(loc_loss * y_true[..., 0], axis=-1)\n",
    "    \n",
    "    # negative examples loss\n",
    "    anchors = K.shape(y_true)[1]\n",
    "    num_pos = K.sum(y_true[..., 0], axis=-1)\n",
    "    num_pos_avg = K.mean(num_pos)\n",
    "    num_neg = K.min([neg_pos_ratio * (num_pos_avg) + 1., K.cast(anchors, 'float32')])\n",
    "    \n",
    "    # hard negative mining\n",
    "    neg_conf_loss, _ = tf.nn.top_k(conf_loss * (1. - y_true[..., 0]),\n",
    "                                   k=K.cast(num_neg, 'int32'))\n",
    "\n",
    "    neg_conf_loss = K.sum(neg_conf_loss, axis=-1)\n",
    "    \n",
    "    # total conf loss\n",
    "    total_conf_loss = (neg_conf_loss + pos_conf_loss) / (num_neg + num_pos + 1e-32)\n",
    "    loc_loss = pos_loc_loss / (num_pos + 1e-32)\n",
    "    \n",
    "    return total_conf_loss + 0.5 * loc_loss"
   ]
  },
  {
   "cell_type": "code",
   "execution_count": null,
   "metadata": {},
   "outputs": [],
   "source": [
    "'''Загрузка данных'''"
   ]
  },
  {
   "cell_type": "code",
   "execution_count": null,
   "metadata": {},
   "outputs": [],
   "source": [
    "def load_img(path, target_size=(IMG_WIDTH, IMG_HEIGHT)):\n",
    "    img = cv2.imread(path, cv2.IMREAD_COLOR)[...,::-1]\n",
    "    img_shape = img.shape\n",
    "    img_resized = cv2.resize(img, target_size)\n",
    "    return img_shape, keras.applications.vgg16.preprocess_input(img_resized.astype(np.float32))\n",
    "\n",
    "def data_generator(boxes, batch_size=32):\n",
    "    boxes = sum(boxes.values(), [])\n",
    "    while True:\n",
    "        random.shuffle(boxes)\n",
    "        for i in range(len(boxes)//batch_size):\n",
    "            X, y = [], []\n",
    "            for j in range(i*batch_size,(i+1)*batch_size):\n",
    "                img_shape, img = load_img(boxes[j]['filename'])\n",
    "                # TODO: добавьте one-hot encoding в разметку для классов\n",
    "                y.append(encode_anchors(boxes[j], img_shape))\n",
    "                X.append(img)\n",
    "            yield np.array(X), np.array(y)"
   ]
  },
  {
   "cell_type": "code",
   "execution_count": null,
   "metadata": {},
   "outputs": [],
   "source": [
    "'''Добавляем выход детектора'''"
   ]
  },
  {
   "cell_type": "code",
   "execution_count": null,
   "metadata": {},
   "outputs": [],
   "source": [
    "output = keras.layers.BatchNormalization()(feature_tensor)\n",
    "\n",
    "# TODO: добавьте выходы для классификации детекции\n",
    "output = keras.layers.Conv2D(11,\n",
    "                             kernel_size=(1, 1), \n",
    "                             activation='linear',\n",
    "                             kernel_regularizer='l2')(output)\n",
    "\n",
    "model = keras.models.Model(inputs=features.inputs, outputs=output)\n",
    "model.summary()"
   ]
  },
  {
   "cell_type": "code",
   "execution_count": null,
   "metadata": {},
   "outputs": [],
   "source": [
    "'''Обучение'''"
   ]
  },
  {
   "cell_type": "code",
   "execution_count": null,
   "metadata": {},
   "outputs": [],
   "source": [
    "adam = keras.optimizers.Adam(lr=3e-4, decay=1e-6)\n",
    "model.compile(optimizer=adam, \n",
    "              loss=total_loss,\n",
    "              metrics={'conf_loss': confidence_loss})"
   ]
  },
  {
   "cell_type": "code",
   "execution_count": null,
   "metadata": {},
   "outputs": [],
   "source": [
    "batch_size = 5\n",
    "steps_per_epoch = sum(map(len, boxes.values()), 0) / batch_size\n",
    "\n",
    "gen = data_generator(boxes, batch_size=batch_size)\n",
    "\n",
    "checkpoint = keras.callbacks.ModelCheckpoint(\n",
    "    'weights.{epoch:02d}-{loss:.3f}.hdf5',\n",
    "    monitor='loss',\n",
    "    verbose=1,  \n",
    "    save_best_only=True, \n",
    "    save_weights_only=False,\n",
    "    mode='auto', period=1)\n",
    "\n",
    "model.fit_generator(generator=gen, \n",
    "                    steps_per_epoch=steps_per_epoch,\n",
    "                    epochs=10000,\n",
    "                    callbacks=[checkpoint])"
   ]
  },
  {
   "cell_type": "code",
   "execution_count": null,
   "metadata": {},
   "outputs": [],
   "source": [
    "'Результат работы детектора'"
   ]
  },
  {
   "cell_type": "code",
   "execution_count": null,
   "metadata": {},
   "outputs": [],
   "source": [
    "example = boxes['lag'][17]\n",
    "\n",
    "_, sample_img = load_img(example['filename'])\n",
    "pred = model.predict(np.array([sample_img,]))[0]\n",
    "\n",
    "decoded = decode_prediction(pred, conf_thr=0.)\n",
    "decoded = sorted(decoded, key=lambda e: -e['conf'])\n",
    "\n",
    "plt.figure(figsize=(6, 6), dpi=120)\n",
    "img = draw_boxes(example, decoded[:3], (IMG_WIDTH, IMG_HEIGHT))\n",
    "plt.imshow(img)\n",
    "plt.title('{}x{}'.format(*img.shape));"
   ]
  }
 ],
 "metadata": {
  "kernelspec": {
   "display_name": "Python 3",
   "language": "python",
   "name": "python3"
  },
  "language_info": {
   "codemirror_mode": {
    "name": "ipython",
    "version": 3
   },
   "file_extension": ".py",
   "mimetype": "text/x-python",
   "name": "python",
   "nbconvert_exporter": "python",
   "pygments_lexer": "ipython3",
   "version": "3.6.7"
  }
 },
 "nbformat": 4,
 "nbformat_minor": 2
}
