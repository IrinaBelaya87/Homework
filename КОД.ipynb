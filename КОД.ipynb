{
 "cells": [
  {
   "cell_type": "code",
   "execution_count": 1,
   "metadata": {},
   "outputs": [],
   "source": [
    "import requests\n",
    "import pandas as pd\n",
    "import numpy as np\n",
    "import seaborn as sns\n",
    "import matplotlib.pyplot as plt\n",
    "import datetime\n",
    "%matplotlib inline\n",
    "# убираем scientific notation\n",
    "pd.options.display.float_format = '{:.2f}'.format"
   ]
  },
  {
   "cell_type": "code",
   "execution_count": 2,
   "metadata": {},
   "outputs": [],
   "source": [
    "import itertools\n",
    "from pylab import rcParams\n",
    "rcParams['figure.figsize'] = 12, 8"
   ]
  },
  {
   "cell_type": "code",
   "execution_count": 3,
   "metadata": {},
   "outputs": [],
   "source": [
    "# константы для работы с временными диапазонами\n",
    "\n",
    "# вчерашняя дата\n",
    "yesterday = [(datetime.date.today() - datetime.timedelta(days=2)).strftime('%Y-%m-%d'),\n",
    "            (datetime.date.today() - datetime.timedelta(days=2)).strftime('%Y-%m-%d')]\n",
    "# последние 7 дней (без учета текущей даты)\n",
    "week_dates = [(datetime.date.today() - datetime.timedelta(days=7)).strftime('%Y-%m-%d'), \\\n",
    "(datetime.date.today() - datetime.timedelta(days=1)).strftime('%Y-%m-%d')]\n",
    "# текущий месяц (без учета текущей даты)\n",
    "month_dates = [datetime.date.today().strftime('%Y-%m-') + '01', \\\n",
    "(datetime.date.today() - datetime.timedelta(days=1)).strftime('%Y-%m-%d')]\n",
    "\n",
    "# выставляем даты для отчета\n",
    "query_dates = ['2019-06-01', '2019-07-31'];\n",
    "\n",
    "# выставляем даты для целевого признака по оттоку\n",
    "churn_query_dates = ['2019-06-01', '2019-06-31'];\n",
    "\n",
    "# формат даты\n",
    "fmt = '%Y-%m-%d'"
   ]
  },
  {
   "cell_type": "code",
   "execution_count": 4,
   "metadata": {},
   "outputs": [],
   "source": [
    "# функция для расчета признаков, связанных с сессиями пользователей (например, avgdaylag (средний кол-во дней между сессиями))\n",
    "def func(a):\n",
    "    i1, i2 = itertools.tee(iter(a))\n",
    "    next(i2)\n",
    "    res = [(int(round((datetime.strptime(y, fmt) - datetime.strptime(x, fmt)).total_seconds() / 60))) / 1440\n",
    "    for x, y in zip(i1, i2)] # or just zip in Python 3\\n\"\n",
    "    return round(np.mean(res),2)\n",
    "\n",
    "from datetime import datetime"
   ]
  },
  {
   "cell_type": "code",
   "execution_count": 5,
   "metadata": {},
   "outputs": [],
   "source": [
    "# здесь выставляем первое число месяца, на который прогнозируем отток\n",
    "\n",
    "reportDate = datetime(2019, 8, 1)\n",
    "\n",
    "sns.set(rc={'axes.facecolor':'grey', 'figure.facecolor':'grey'})\n",
    "sns.set(palette='Blues')"
   ]
  },
  {
   "cell_type": "code",
   "execution_count": 6,
   "metadata": {},
   "outputs": [],
   "source": [
    "##Получим данные по сессиям за период. В нашем случае за три месяца (март, апрель, май 2019)"
   ]
  },
  {
   "cell_type": "code",
   "execution_count": 7,
   "metadata": {},
   "outputs": [],
   "source": [
    "sessions = pd.read_csv('devtodev_Sql_wizard_21062019_0937.csv', sep=';')"
   ]
  },
  {
   "cell_type": "code",
   "execution_count": 8,
   "metadata": {},
   "outputs": [
    {
     "data": {
      "text/html": [
       "<div>\n",
       "<style scoped>\n",
       "    .dataframe tbody tr th:only-of-type {\n",
       "        vertical-align: middle;\n",
       "    }\n",
       "\n",
       "    .dataframe tbody tr th {\n",
       "        vertical-align: top;\n",
       "    }\n",
       "\n",
       "    .dataframe thead th {\n",
       "        text-align: right;\n",
       "    }\n",
       "</style>\n",
       "<table border=\"1\" class=\"dataframe\">\n",
       "  <thead>\n",
       "    <tr style=\"text-align: right;\">\n",
       "      <th></th>\n",
       "      <th>sessions.App_version</th>\n",
       "      <th>sessions.Cheater</th>\n",
       "      <th>sessions.Count</th>\n",
       "      <th>sessions.Country</th>\n",
       "      <th>sessions.Date</th>\n",
       "      <th>sessions.Device</th>\n",
       "      <th>sessions.devtodev_ID</th>\n",
       "      <th>sessions.Duration</th>\n",
       "      <th>sessions.Install_date</th>\n",
       "      <th>sessions.Language</th>\n",
       "      <th>sessions.Payer</th>\n",
       "      <th>sessions.Payments_count</th>\n",
       "      <th>sessions.Payments_sum</th>\n",
       "      <th>sessions.Tester</th>\n",
       "      <th>sessions.User_level</th>\n",
       "      <th>TO_TIMESTAMP(sessions.Date, 'YYYY-MM-DD HH24:MI:SS')</th>\n",
       "      <th>TO_TIMESTAMP(sessions.Date, 'YYYY-MM-DD')</th>\n",
       "    </tr>\n",
       "  </thead>\n",
       "  <tbody>\n",
       "    <tr>\n",
       "      <th>0</th>\n",
       "      <td>1.0.69</td>\n",
       "      <td>False</td>\n",
       "      <td>nan</td>\n",
       "      <td>Poland</td>\n",
       "      <td>1558299613000</td>\n",
       "      <td>LG K10 LTE</td>\n",
       "      <td>12920238</td>\n",
       "      <td>120.00</td>\n",
       "      <td>1553079637000</td>\n",
       "      <td>pl</td>\n",
       "      <td>False</td>\n",
       "      <td>0</td>\n",
       "      <td>0.00</td>\n",
       "      <td>False</td>\n",
       "      <td>9</td>\n",
       "      <td>2019-05-20 00:00:13</td>\n",
       "      <td>2019-05-20</td>\n",
       "    </tr>\n",
       "    <tr>\n",
       "      <th>1</th>\n",
       "      <td>1.0.71</td>\n",
       "      <td>False</td>\n",
       "      <td>1.00</td>\n",
       "      <td>Portugal</td>\n",
       "      <td>1558299627000</td>\n",
       "      <td>ALCATEL A3 XL</td>\n",
       "      <td>11862354</td>\n",
       "      <td>nan</td>\n",
       "      <td>1547137502000</td>\n",
       "      <td>pt</td>\n",
       "      <td>False</td>\n",
       "      <td>0</td>\n",
       "      <td>0.00</td>\n",
       "      <td>False</td>\n",
       "      <td>12</td>\n",
       "      <td>2019-05-20 00:00:27</td>\n",
       "      <td>2019-05-20</td>\n",
       "    </tr>\n",
       "    <tr>\n",
       "      <th>2</th>\n",
       "      <td>1.0.63</td>\n",
       "      <td>False</td>\n",
       "      <td>nan</td>\n",
       "      <td>Lithuania</td>\n",
       "      <td>1558299670000</td>\n",
       "      <td>MEDIAPAD T3 10</td>\n",
       "      <td>9336528</td>\n",
       "      <td>96.00</td>\n",
       "      <td>1534704600000</td>\n",
       "      <td>lt</td>\n",
       "      <td>False</td>\n",
       "      <td>0</td>\n",
       "      <td>0.00</td>\n",
       "      <td>False</td>\n",
       "      <td>7</td>\n",
       "      <td>2019-05-20 00:01:10</td>\n",
       "      <td>2019-05-20</td>\n",
       "    </tr>\n",
       "    <tr>\n",
       "      <th>3</th>\n",
       "      <td>1.0.71</td>\n",
       "      <td>False</td>\n",
       "      <td>nan</td>\n",
       "      <td>United States</td>\n",
       "      <td>1558299673000</td>\n",
       "      <td>LG Q7+</td>\n",
       "      <td>13636999</td>\n",
       "      <td>133.00</td>\n",
       "      <td>1557321994697</td>\n",
       "      <td>en</td>\n",
       "      <td>False</td>\n",
       "      <td>0</td>\n",
       "      <td>0.00</td>\n",
       "      <td>False</td>\n",
       "      <td>3</td>\n",
       "      <td>2019-05-20 00:01:13</td>\n",
       "      <td>2019-05-20</td>\n",
       "    </tr>\n",
       "    <tr>\n",
       "      <th>4</th>\n",
       "      <td>1.0.71</td>\n",
       "      <td>False</td>\n",
       "      <td>nan</td>\n",
       "      <td>Portugal</td>\n",
       "      <td>1558299681000</td>\n",
       "      <td>ALCATEL A3 XL</td>\n",
       "      <td>11862354</td>\n",
       "      <td>54.00</td>\n",
       "      <td>1547137502000</td>\n",
       "      <td>pt</td>\n",
       "      <td>False</td>\n",
       "      <td>0</td>\n",
       "      <td>0.00</td>\n",
       "      <td>False</td>\n",
       "      <td>12</td>\n",
       "      <td>2019-05-20 00:01:21</td>\n",
       "      <td>2019-05-20</td>\n",
       "    </tr>\n",
       "  </tbody>\n",
       "</table>\n",
       "</div>"
      ],
      "text/plain": [
       "  sessions.App_version  sessions.Cheater  sessions.Count sessions.Country  \\\n",
       "0               1.0.69             False             nan           Poland   \n",
       "1               1.0.71             False            1.00         Portugal   \n",
       "2               1.0.63             False             nan        Lithuania   \n",
       "3               1.0.71             False             nan    United States   \n",
       "4               1.0.71             False             nan         Portugal   \n",
       "\n",
       "   sessions.Date sessions.Device  sessions.devtodev_ID  sessions.Duration  \\\n",
       "0  1558299613000      LG K10 LTE              12920238             120.00   \n",
       "1  1558299627000   ALCATEL A3 XL              11862354                nan   \n",
       "2  1558299670000  MEDIAPAD T3 10               9336528              96.00   \n",
       "3  1558299673000          LG Q7+              13636999             133.00   \n",
       "4  1558299681000   ALCATEL A3 XL              11862354              54.00   \n",
       "\n",
       "   sessions.Install_date sessions.Language  sessions.Payer  \\\n",
       "0          1553079637000                pl           False   \n",
       "1          1547137502000                pt           False   \n",
       "2          1534704600000                lt           False   \n",
       "3          1557321994697                en           False   \n",
       "4          1547137502000                pt           False   \n",
       "\n",
       "   sessions.Payments_count  sessions.Payments_sum  sessions.Tester  \\\n",
       "0                        0                   0.00            False   \n",
       "1                        0                   0.00            False   \n",
       "2                        0                   0.00            False   \n",
       "3                        0                   0.00            False   \n",
       "4                        0                   0.00            False   \n",
       "\n",
       "   sessions.User_level TO_TIMESTAMP(sessions.Date, 'YYYY-MM-DD HH24:MI:SS')  \\\n",
       "0                    9                                2019-05-20 00:00:13     \n",
       "1                   12                                2019-05-20 00:00:27     \n",
       "2                    7                                2019-05-20 00:01:10     \n",
       "3                    3                                2019-05-20 00:01:13     \n",
       "4                   12                                2019-05-20 00:01:21     \n",
       "\n",
       "  TO_TIMESTAMP(sessions.Date, 'YYYY-MM-DD')  \n",
       "0                                2019-05-20  \n",
       "1                                2019-05-20  \n",
       "2                                2019-05-20  \n",
       "3                                2019-05-20  \n",
       "4                                2019-05-20  "
      ]
     },
     "execution_count": 8,
     "metadata": {},
     "output_type": "execute_result"
    }
   ],
   "source": [
    "sessions.head()"
   ]
  },
  {
   "cell_type": "code",
   "execution_count": 9,
   "metadata": {},
   "outputs": [
    {
     "data": {
      "text/html": [
       "<div>\n",
       "<style scoped>\n",
       "    .dataframe tbody tr th:only-of-type {\n",
       "        vertical-align: middle;\n",
       "    }\n",
       "\n",
       "    .dataframe tbody tr th {\n",
       "        vertical-align: top;\n",
       "    }\n",
       "\n",
       "    .dataframe thead th {\n",
       "        text-align: right;\n",
       "    }\n",
       "</style>\n",
       "<table border=\"1\" class=\"dataframe\">\n",
       "  <thead>\n",
       "    <tr style=\"text-align: right;\">\n",
       "      <th></th>\n",
       "      <th>sessions.Count</th>\n",
       "      <th>sessions.Date</th>\n",
       "      <th>sessions.devtodev_ID</th>\n",
       "      <th>sessions.Duration</th>\n",
       "      <th>sessions.Install_date</th>\n",
       "      <th>sessions.Payments_count</th>\n",
       "      <th>sessions.Payments_sum</th>\n",
       "      <th>sessions.User_level</th>\n",
       "    </tr>\n",
       "  </thead>\n",
       "  <tbody>\n",
       "    <tr>\n",
       "      <th>count</th>\n",
       "      <td>1603848.00</td>\n",
       "      <td>10367520.00</td>\n",
       "      <td>10367520.00</td>\n",
       "      <td>8763748.00</td>\n",
       "      <td>10367520.00</td>\n",
       "      <td>10367520.00</td>\n",
       "      <td>10367520.00</td>\n",
       "      <td>10367520.00</td>\n",
       "    </tr>\n",
       "    <tr>\n",
       "      <th>mean</th>\n",
       "      <td>1.00</td>\n",
       "      <td>1558825118853.36</td>\n",
       "      <td>10940526.69</td>\n",
       "      <td>477.44</td>\n",
       "      <td>1543940764293.32</td>\n",
       "      <td>2.58</td>\n",
       "      <td>31.97</td>\n",
       "      <td>10.58</td>\n",
       "    </tr>\n",
       "    <tr>\n",
       "      <th>std</th>\n",
       "      <td>0.00</td>\n",
       "      <td>297569723.78</td>\n",
       "      <td>3313689.20</td>\n",
       "      <td>3042.50</td>\n",
       "      <td>15708981235.57</td>\n",
       "      <td>10.94</td>\n",
       "      <td>211.58</td>\n",
       "      <td>5.05</td>\n",
       "    </tr>\n",
       "    <tr>\n",
       "      <th>min</th>\n",
       "      <td>1.00</td>\n",
       "      <td>1558299600000.00</td>\n",
       "      <td>108.00</td>\n",
       "      <td>1.00</td>\n",
       "      <td>1461183300000.00</td>\n",
       "      <td>0.00</td>\n",
       "      <td>0.00</td>\n",
       "      <td>2.00</td>\n",
       "    </tr>\n",
       "    <tr>\n",
       "      <th>25%</th>\n",
       "      <td>1.00</td>\n",
       "      <td>1558567158500.00</td>\n",
       "      <td>9673809.00</td>\n",
       "      <td>11.00</td>\n",
       "      <td>1536166500000.00</td>\n",
       "      <td>0.00</td>\n",
       "      <td>0.00</td>\n",
       "      <td>7.00</td>\n",
       "    </tr>\n",
       "    <tr>\n",
       "      <th>50%</th>\n",
       "      <td>1.00</td>\n",
       "      <td>1558824919000.00</td>\n",
       "      <td>12145888.00</td>\n",
       "      <td>41.00</td>\n",
       "      <td>1548684144780.00</td>\n",
       "      <td>0.00</td>\n",
       "      <td>0.00</td>\n",
       "      <td>10.00</td>\n",
       "    </tr>\n",
       "    <tr>\n",
       "      <th>75%</th>\n",
       "      <td>1.00</td>\n",
       "      <td>1559077817000.00</td>\n",
       "      <td>13427392.00</td>\n",
       "      <td>173.00</td>\n",
       "      <td>1556108630000.00</td>\n",
       "      <td>0.00</td>\n",
       "      <td>0.00</td>\n",
       "      <td>14.00</td>\n",
       "    </tr>\n",
       "    <tr>\n",
       "      <th>max</th>\n",
       "      <td>1.00</td>\n",
       "      <td>1559336399000.00</td>\n",
       "      <td>14004722.00</td>\n",
       "      <td>86398.00</td>\n",
       "      <td>1559336270000.00</td>\n",
       "      <td>585.00</td>\n",
       "      <td>16197.69</td>\n",
       "      <td>55.00</td>\n",
       "    </tr>\n",
       "  </tbody>\n",
       "</table>\n",
       "</div>"
      ],
      "text/plain": [
       "       sessions.Count    sessions.Date  sessions.devtodev_ID  \\\n",
       "count      1603848.00      10367520.00           10367520.00   \n",
       "mean             1.00 1558825118853.36           10940526.69   \n",
       "std              0.00     297569723.78            3313689.20   \n",
       "min              1.00 1558299600000.00                108.00   \n",
       "25%              1.00 1558567158500.00            9673809.00   \n",
       "50%              1.00 1558824919000.00           12145888.00   \n",
       "75%              1.00 1559077817000.00           13427392.00   \n",
       "max              1.00 1559336399000.00           14004722.00   \n",
       "\n",
       "       sessions.Duration  sessions.Install_date  sessions.Payments_count  \\\n",
       "count         8763748.00            10367520.00              10367520.00   \n",
       "mean              477.44       1543940764293.32                     2.58   \n",
       "std              3042.50         15708981235.57                    10.94   \n",
       "min                 1.00       1461183300000.00                     0.00   \n",
       "25%                11.00       1536166500000.00                     0.00   \n",
       "50%                41.00       1548684144780.00                     0.00   \n",
       "75%               173.00       1556108630000.00                     0.00   \n",
       "max             86398.00       1559336270000.00                   585.00   \n",
       "\n",
       "       sessions.Payments_sum  sessions.User_level  \n",
       "count            10367520.00          10367520.00  \n",
       "mean                   31.97                10.58  \n",
       "std                   211.58                 5.05  \n",
       "min                     0.00                 2.00  \n",
       "25%                     0.00                 7.00  \n",
       "50%                     0.00                10.00  \n",
       "75%                     0.00                14.00  \n",
       "max                 16197.69                55.00  "
      ]
     },
     "execution_count": 9,
     "metadata": {},
     "output_type": "execute_result"
    }
   ],
   "source": [
    "sessions.describe()"
   ]
  },
  {
   "cell_type": "code",
   "execution_count": 10,
   "metadata": {},
   "outputs": [
    {
     "name": "stdout",
     "output_type": "stream",
     "text": [
      "<class 'pandas.core.frame.DataFrame'>\n",
      "RangeIndex: 10367520 entries, 0 to 10367519\n",
      "Data columns (total 17 columns):\n",
      "sessions.App_version                                    object\n",
      "sessions.Cheater                                        bool\n",
      "sessions.Count                                          float64\n",
      "sessions.Country                                        object\n",
      "sessions.Date                                           int64\n",
      "sessions.Device                                         object\n",
      "sessions.devtodev_ID                                    int64\n",
      "sessions.Duration                                       float64\n",
      "sessions.Install_date                                   int64\n",
      "sessions.Language                                       object\n",
      "sessions.Payer                                          bool\n",
      "sessions.Payments_count                                 int64\n",
      "sessions.Payments_sum                                   float64\n",
      "sessions.Tester                                         bool\n",
      "sessions.User_level                                     int64\n",
      "TO_TIMESTAMP(sessions.Date, 'YYYY-MM-DD HH24:MI:SS')    object\n",
      "TO_TIMESTAMP(sessions.Date, 'YYYY-MM-DD')               object\n",
      "dtypes: bool(3), float64(3), int64(5), object(6)\n",
      "memory usage: 1.1+ GB\n"
     ]
    }
   ],
   "source": [
    "sessions.info()"
   ]
  },
  {
   "cell_type": "code",
   "execution_count": 11,
   "metadata": {},
   "outputs": [],
   "source": [
    "##Создадим общий dataframe для пользователей, куда будем добавлять агрегированные данные. Посчитаем кол-во сессий на Advertising_ID, используя SessionStartTimestamp в качестве ID сессии"
   ]
  },
  {
   "cell_type": "code",
   "execution_count": 12,
   "metadata": {},
   "outputs": [
    {
     "name": "stdout",
     "output_type": "stream",
     "text": [
      "Wall time: 549 ms\n"
     ]
    }
   ],
   "source": [
    "%%time\n",
    "\n",
    "df_main = sessions.groupby('sessions.devtodev_ID')[['sessions.Date']]\\\n",
    "    .count().reset_index().sort_values(by='sessions.Date', ascending=False)"
   ]
  },
  {
   "cell_type": "code",
   "execution_count": 13,
   "metadata": {},
   "outputs": [],
   "source": [
    "##Запишем дни сессий в порядке возрастания массивом в колонку SessionStartDate"
   ]
  },
  {
   "cell_type": "code",
   "execution_count": 14,
   "metadata": {},
   "outputs": [],
   "source": [
    "df_main['SessionStartDate'] = [sorted(list(set(sessions[\"TO_TIMESTAMP(sessions.Date, 'YYYY-MM-DD')\"].loc[sessions['sessions.devtodev_ID'] == x['sessions.devtodev_ID']])))  \n",
    "    for _, x in df_main.iterrows()]"
   ]
  },
  {
   "cell_type": "code",
   "execution_count": 15,
   "metadata": {},
   "outputs": [],
   "source": [
    "##Посчитаем среднюю продолжительность перерыва между днями, в течение которых были сессии"
   ]
  },
  {
   "cell_type": "code",
   "execution_count": 16,
   "metadata": {},
   "outputs": [
    {
     "name": "stderr",
     "output_type": "stream",
     "text": [
      "C:\\Users\\ibelaya\\Anaconda3\\lib\\site-packages\\numpy\\core\\fromnumeric.py:2957: RuntimeWarning: Mean of empty slice.\n",
      "  out=out, **kwargs)\n",
      "C:\\Users\\ibelaya\\Anaconda3\\lib\\site-packages\\numpy\\core\\_methods.py:80: RuntimeWarning: invalid value encountered in double_scalars\n",
      "  ret = ret.dtype.type(ret / rcount)\n"
     ]
    }
   ],
   "source": [
    "df_main['sessions_avgdaylag'] = df_main.apply(lambda x: func(x['SessionStartDate']), axis=1)"
   ]
  },
  {
   "cell_type": "code",
   "execution_count": 17,
   "metadata": {},
   "outputs": [],
   "source": [
    "##Если у пользователя был один активный день, то avgdaylag будет равен кол-ву дней с этого дня и до даты отчета"
   ]
  },
  {
   "cell_type": "code",
   "execution_count": 18,
   "metadata": {},
   "outputs": [],
   "source": [
    "tempSer = df_main[df_main['sessions_avgdaylag'].isnull()]['SessionStartDate'].apply(\n",
    "     lambda x: round((int(round((reportDate - datetime.strptime(x[0], fmt)).total_seconds() / 60))) / 1440))"
   ]
  },
  {
   "cell_type": "code",
   "execution_count": 19,
   "metadata": {},
   "outputs": [],
   "source": [
    "df_main['sessions_avgdaylag'] = df_main['sessions_avgdaylag'].fillna(tempSer)"
   ]
  },
  {
   "cell_type": "code",
   "execution_count": 20,
   "metadata": {},
   "outputs": [],
   "source": [
    "##Посчитаем кол-во дней, прошешдишх с последней сессии пользователя от даты формирования отчета"
   ]
  },
  {
   "cell_type": "code",
   "execution_count": 21,
   "metadata": {},
   "outputs": [],
   "source": [
    "temp = sessions.groupby('sessions.devtodev_ID')[[\"TO_TIMESTAMP(sessions.Date, 'YYYY-MM-DD')\"]].max().reset_index()\n",
    "temp['sessions_daysSinceLastSession'] = temp[\"TO_TIMESTAMP(sessions.Date, 'YYYY-MM-DD')\"].apply(\n",
    "    lambda x: round((int(round((reportDate - datetime.strptime(x, fmt)).total_seconds() / 60))) / 1440))\n",
    "df_main = df_main.join(temp.drop([\"TO_TIMESTAMP(sessions.Date, 'YYYY-MM-DD')\"], axis=1).set_index('sessions.devtodev_ID'), on='sessions.devtodev_ID')"
   ]
  },
  {
   "cell_type": "code",
   "execution_count": 22,
   "metadata": {},
   "outputs": [],
   "source": [
    "##Посчитаем количество дней, когда пользователь был активен в приложении"
   ]
  },
  {
   "cell_type": "code",
   "execution_count": 23,
   "metadata": {},
   "outputs": [],
   "source": [
    "df_main['sessions_totaldaysactive'] = df_main['SessionStartDate'].apply(lambda x: len(x))"
   ]
  },
  {
   "cell_type": "code",
   "execution_count": 24,
   "metadata": {},
   "outputs": [],
   "source": [
    "##Удалим массив уникальных дат с сессиями и переименуем столбец SessionStartTimestamp"
   ]
  },
  {
   "cell_type": "code",
   "execution_count": 25,
   "metadata": {},
   "outputs": [],
   "source": [
    "df_main = df_main.drop(['SessionStartDate'], axis=1).rename(index=str, columns={\n",
    "    \"sessions.Date\": \"sessions_totalnumber\"\n",
    "})"
   ]
  },
  {
   "cell_type": "code",
   "execution_count": 26,
   "metadata": {},
   "outputs": [],
   "source": [
    "##СЧИТАЕМ CHURN И ПРОСТАВЛЯЕМ TARGET FEATURE"
   ]
  },
  {
   "cell_type": "code",
   "execution_count": 27,
   "metadata": {},
   "outputs": [],
   "source": [
    "sessions = pd.read_csv('devtodev_Sql_wizard_Art_Of_War_3_Google_20062019_1155.csv', sep=';')"
   ]
  },
  {
   "cell_type": "code",
   "execution_count": 28,
   "metadata": {},
   "outputs": [],
   "source": [
    "df_sessions_churn = sessions.groupby('sessions.devtodev_ID')[['sessions.Date']]\\\n",
    "    .count().reset_index().sort_values(by='sessions.Date', ascending=False)"
   ]
  },
  {
   "cell_type": "code",
   "execution_count": 29,
   "metadata": {},
   "outputs": [],
   "source": [
    "##Посмотрим, какие Advertising_ID, из тех, что присутствуют в общем dataFrame за период, вернулись в прогнозируем периоде. Если Advertising_ID найден, ставим \"0\" (неотток), в противном случае - \"1\" (отто"
   ]
  },
  {
   "cell_type": "code",
   "execution_count": 30,
   "metadata": {},
   "outputs": [
    {
     "data": {
      "text/plain": [
       "Index([u'sessions.devtodev_ID', u'sessions_totalnumber', u'sessions_avgdaylag',\n",
       "       u'sessions_daysSinceLastSession', u'sessions_totaldaysactive'],\n",
       "      dtype='object')"
      ]
     },
     "execution_count": 30,
     "metadata": {},
     "output_type": "execute_result"
    }
   ],
   "source": [
    "df_main.columns"
   ]
  },
  {
   "cell_type": "code",
   "execution_count": 31,
   "metadata": {},
   "outputs": [],
   "source": [
    "df_main['churned'] = df_main['sessions.devtodev_ID'].isin(df_sessions_churn['sessions.devtodev_ID']).apply(lambda x: 0 if x is True else 1)"
   ]
  },
  {
   "cell_type": "code",
   "execution_count": 32,
   "metadata": {},
   "outputs": [
    {
     "data": {
      "text/plain": [
       "0   0.54\n",
       "1   0.46\n",
       "Name: churned, dtype: float64"
      ]
     },
     "execution_count": 32,
     "metadata": {},
     "output_type": "execute_result"
    }
   ],
   "source": [
    "df_main['churned'].value_counts(normalize=True)"
   ]
  },
  {
   "cell_type": "code",
   "execution_count": 33,
   "metadata": {},
   "outputs": [
    {
     "data": {
      "image/png": "[encoded data removed]",
      "text/plain": [
       "<Figure size 864x576 with 2 Axes>"
      ]
     },
     "metadata": {},
     "output_type": "display_data"
    }
   ],
   "source": [
    "sns.heatmap(df_main[[f for f in df_main.columns if 'sessions' in f or 'churned' in f]].corr(), annot=True);"
   ]
  },
  {
   "cell_type": "code",
   "execution_count": 34,
   "metadata": {},
   "outputs": [
    {
     "data": {
      "text/html": [
       "<div>\n",
       "<style scoped>\n",
       "    .dataframe tbody tr th:only-of-type {\n",
       "        vertical-align: middle;\n",
       "    }\n",
       "\n",
       "    .dataframe tbody tr th {\n",
       "        vertical-align: top;\n",
       "    }\n",
       "\n",
       "    .dataframe thead th {\n",
       "        text-align: right;\n",
       "    }\n",
       "</style>\n",
       "<table border=\"1\" class=\"dataframe\">\n",
       "  <thead>\n",
       "    <tr style=\"text-align: right;\">\n",
       "      <th></th>\n",
       "      <th>sessions.devtodev_ID</th>\n",
       "      <th>sessions_totalnumber</th>\n",
       "      <th>sessions_avgdaylag</th>\n",
       "      <th>sessions_daysSinceLastSession</th>\n",
       "      <th>sessions_totaldaysactive</th>\n",
       "      <th>churned</th>\n",
       "    </tr>\n",
       "  </thead>\n",
       "  <tbody>\n",
       "    <tr>\n",
       "      <th>80154</th>\n",
       "      <td>13775073</td>\n",
       "      <td>1</td>\n",
       "      <td>72.00</td>\n",
       "      <td>72.00</td>\n",
       "      <td>1</td>\n",
       "      <td>1</td>\n",
       "    </tr>\n",
       "    <tr>\n",
       "      <th>80153</th>\n",
       "      <td>13775071</td>\n",
       "      <td>1</td>\n",
       "      <td>72.00</td>\n",
       "      <td>72.00</td>\n",
       "      <td>1</td>\n",
       "      <td>1</td>\n",
       "    </tr>\n",
       "    <tr>\n",
       "      <th>101200</th>\n",
       "      <td>13911451</td>\n",
       "      <td>1</td>\n",
       "      <td>63.00</td>\n",
       "      <td>63.00</td>\n",
       "      <td>1</td>\n",
       "      <td>1</td>\n",
       "    </tr>\n",
       "    <tr>\n",
       "      <th>51476</th>\n",
       "      <td>12945515</td>\n",
       "      <td>1</td>\n",
       "      <td>63.00</td>\n",
       "      <td>63.00</td>\n",
       "      <td>1</td>\n",
       "      <td>1</td>\n",
       "    </tr>\n",
       "    <tr>\n",
       "      <th>100132</th>\n",
       "      <td>13904602</td>\n",
       "      <td>1</td>\n",
       "      <td>62.00</td>\n",
       "      <td>62.00</td>\n",
       "      <td>1</td>\n",
       "      <td>0</td>\n",
       "    </tr>\n",
       "  </tbody>\n",
       "</table>\n",
       "</div>"
      ],
      "text/plain": [
       "        sessions.devtodev_ID  sessions_totalnumber  sessions_avgdaylag  \\\n",
       "80154               13775073                     1               72.00   \n",
       "80153               13775071                     1               72.00   \n",
       "101200              13911451                     1               63.00   \n",
       "51476               12945515                     1               63.00   \n",
       "100132              13904602                     1               62.00   \n",
       "\n",
       "        sessions_daysSinceLastSession  sessions_totaldaysactive  churned  \n",
       "80154                           72.00                         1        1  \n",
       "80153                           72.00                         1        1  \n",
       "101200                          63.00                         1        1  \n",
       "51476                           63.00                         1        1  \n",
       "100132                          62.00                         1        0  "
      ]
     },
     "execution_count": 34,
     "metadata": {},
     "output_type": "execute_result"
    }
   ],
   "source": [
    "df_main.tail()"
   ]
  },
  {
   "cell_type": "code",
   "execution_count": 35,
   "metadata": {},
   "outputs": [
    {
     "data": {
      "text/plain": [
       "(104603, 6)"
      ]
     },
     "execution_count": 35,
     "metadata": {},
     "output_type": "execute_result"
    }
   ],
   "source": [
    "df_main.shape"
   ]
  },
  {
   "cell_type": "code",
   "execution_count": 36,
   "metadata": {},
   "outputs": [
    {
     "name": "stdout",
     "output_type": "stream",
     "text": [
      "<class 'pandas.core.frame.DataFrame'>\n",
      "Index: 104603 entries, 55451 to 100132\n",
      "Data columns (total 6 columns):\n",
      "sessions.devtodev_ID             104603 non-null int64\n",
      "sessions_totalnumber             104603 non-null int64\n",
      "sessions_avgdaylag               104603 non-null float64\n",
      "sessions_daysSinceLastSession    104603 non-null float64\n",
      "sessions_totaldaysactive         104603 non-null int64\n",
      "churned                          104603 non-null int64\n",
      "dtypes: float64(2), int64(4)\n",
      "memory usage: 5.6+ MB\n"
     ]
    }
   ],
   "source": [
    "df_main.info()"
   ]
  },
  {
   "cell_type": "code",
   "execution_count": 37,
   "metadata": {},
   "outputs": [],
   "source": [
    "####FEATURE ENGINEERING"
   ]
  },
  {
   "cell_type": "code",
   "execution_count": 38,
   "metadata": {},
   "outputs": [],
   "source": [
    "# общее количество сессий за 3 месяца меньше 500\n",
    "df_main['sessions_totalnumber_less_500'] = df_main['sessions_totalnumber'].apply(lambda x: 1 if x < 500 else 0)"
   ]
  },
  {
   "cell_type": "code",
   "execution_count": 39,
   "metadata": {},
   "outputs": [],
   "source": [
    "# общее количество сессий за 3 месяца меньше 200\n",
    "df_main['sessions_totalnumber_less_200'] = df_main['sessions_totalnumber'].apply(lambda x: 1 if x < 200 else 0)"
   ]
  },
  {
   "cell_type": "code",
   "execution_count": 40,
   "metadata": {},
   "outputs": [],
   "source": [
    "# общее количество активных дней за 1 месяц меньше 10\n",
    "df_main['sessions_totaldaysactive_less_10'] = df_main['sessions_totaldaysactive'].apply(lambda x: 1 if x < 10 else 0)"
   ]
  },
  {
   "cell_type": "code",
   "execution_count": 41,
   "metadata": {},
   "outputs": [],
   "source": [
    "df_main['sessions_avgdaylag_greater_20'] = df_main['sessions_avgdaylag'].apply(lambda x: 1 if x > 20.5 else 0)\n",
    "df_main['sessions_avgdaylag_greater_10'] = df_main['sessions_avgdaylag'].apply(lambda x: 1 if x > 10 else 0)\n",
    "df_main['sessions_avgdaylag_greater_15'] = df_main['sessions_avgdaylag'].apply(lambda x: 1 if x > 15 else 0)\n",
    "df_main['sessions_daysSinceLastSession_equalsgreater_19'] = df_main['sessions_daysSinceLastSession'].apply(lambda x: 1 if x >= 19 else 0)\n",
    "df_main['sessions_totaldaysactive_equalsless_2'] = df_main['sessions_totaldaysactive'].apply(lambda x: 1 if x <= 2 else 0)\n",
    "df_main['sessions_totalnumber_equalsless_5'] = df_main['sessions_totalnumber'].apply(lambda x: 1 if x <= 5 else 0)"
   ]
  },
  {
   "cell_type": "code",
   "execution_count": 42,
   "metadata": {},
   "outputs": [],
   "source": [
    "def label_race(row):\n",
    "    if (row['sessions_avgdaylag_greater_10'] == 1 and row['sessions_totaldaysactive_equalsless_2'] == 1 and\n",
    "        row['sessions_daysSinceLastSession_equalsgreater_19'] == 1 and row['sessions_totalnumber_equalsless_5'] == 1):\n",
    "        return 1\n",
    "    else:\n",
    "        return 0"
   ]
  },
  {
   "cell_type": "code",
   "execution_count": 43,
   "metadata": {},
   "outputs": [],
   "source": [
    "df_main['sessions_isPassive'] = df_main.apply(lambda row: label_race (row),axis=1)"
   ]
  },
  {
   "cell_type": "code",
   "execution_count": 44,
   "metadata": {},
   "outputs": [
    {
     "data": {
      "image/png": "[encoded data removed]",
      "text/plain": [
       "<Figure size 1080x720 with 2 Axes>"
      ]
     },
     "metadata": {},
     "output_type": "display_data"
    }
   ],
   "source": [
    "fig, ax = plt.subplots(figsize=(15,10))\n",
    "# sns.heatmap(df_main.corr());\n",
    "sns.heatmap(df_main[[f for f in df_main.columns if 'sessions' in f or 'churned' in f]].corr(), annot=True);"
   ]
  },
  {
   "cell_type": "code",
   "execution_count": 45,
   "metadata": {},
   "outputs": [],
   "source": [
    "####RANDOM FOREST"
   ]
  },
  {
   "cell_type": "code",
   "execution_count": 46,
   "metadata": {},
   "outputs": [],
   "source": [
    "from sklearn.model_selection import train_test_split, GridSearchCV, StratifiedKFold, cross_val_score\n",
    "from sklearn.metrics import accuracy_score\n",
    "from sklearn.tree import DecisionTreeClassifier, DecisionTreeRegressor\n",
    "from sklearn.neighbors import KNeighborsClassifier\n",
    "from sklearn.linear_model import LogisticRegression\n",
    "from sklearn.metrics import confusion_matrix\n",
    "from sklearn.metrics import precision_recall_curve, classification_report\n",
    "from sklearn.metrics import f1_score\n",
    "from collections import Counter"
   ]
  },
  {
   "cell_type": "code",
   "execution_count": 47,
   "metadata": {},
   "outputs": [],
   "source": [
    "y = df_main['churned']\n",
    "X = df_main.drop('churned', axis=1)\n",
    "\n",
    "X_train, X_valid, y_train, y_valid = train_test_split(X, y, test_size=.33, random_state=42)\n",
    "\n",
    "# df_small = X_valid"
   ]
  },
  {
   "cell_type": "code",
   "execution_count": 48,
   "metadata": {},
   "outputs": [],
   "source": [
    "from sklearn.ensemble import RandomForestClassifier"
   ]
  },
  {
   "cell_type": "code",
   "execution_count": 49,
   "metadata": {},
   "outputs": [
    {
     "name": "stdout",
     "output_type": "stream",
     "text": [
      "0.822684216516171\n"
     ]
    }
   ],
   "source": [
    "forest = RandomForestClassifier(n_estimators=100, n_jobs=-1, random_state=42, max_depth=6,)\n",
    "print(np.mean(cross_val_score(forest, X_train, y_train, cv=10)))"
   ]
  },
  {
   "cell_type": "code",
   "execution_count": 50,
   "metadata": {},
   "outputs": [
    {
     "data": {
      "text/plain": [
       "RandomForestClassifier(bootstrap=True, class_weight=None, criterion='gini',\n",
       "            max_depth=6, max_features='auto', max_leaf_nodes=None,\n",
       "            min_impurity_decrease=0.0, min_impurity_split=None,\n",
       "            min_samples_leaf=1, min_samples_split=2,\n",
       "            min_weight_fraction_leaf=0.0, n_estimators=100, n_jobs=-1,\n",
       "            oob_score=False, random_state=42, verbose=0, warm_start=False)"
      ]
     },
     "execution_count": 50,
     "metadata": {},
     "output_type": "execute_result"
    }
   ],
   "source": [
    "forest.fit(X_train, y_train)"
   ]
  },
  {
   "cell_type": "code",
   "execution_count": 51,
   "metadata": {},
   "outputs": [
    {
     "name": "stdout",
     "output_type": "stream",
     "text": [
      "             precision    recall  f1-score   support\n",
      "\n",
      "non-churned       0.87      0.79      0.83     18734\n",
      "    churned       0.78      0.86      0.82     15785\n",
      "\n",
      "avg / total       0.83      0.82      0.82     34519\n",
      "\n"
     ]
    }
   ],
   "source": [
    "print(classification_report(y_valid, forest.predict(X_valid), target_names=['non-churned', 'churned']))"
   ]
  },
  {
   "cell_type": "code",
   "execution_count": 52,
   "metadata": {},
   "outputs": [],
   "source": [
    "forest_params = {\n",
    "    'max_depth': list(range(5,40,10)),\n",
    "    \n",
    "}\n",
    "\n",
    "forest_grid = GridSearchCV(forest, forest_params, cv=10, n_jobs=-1, verbose=True, scoring='f1') #try randomsearchgrid"
   ]
  },
  {
   "cell_type": "code",
   "execution_count": 53,
   "metadata": {},
   "outputs": [
    {
     "name": "stdout",
     "output_type": "stream",
     "text": [
      "Fitting 10 folds for each of 4 candidates, totalling 40 fits\n"
     ]
    },
    {
     "name": "stderr",
     "output_type": "stream",
     "text": [
      "[Parallel(n_jobs=-1)]: Done  40 out of  40 | elapsed:  1.7min finished\n"
     ]
    },
    {
     "data": {
      "text/plain": [
       "GridSearchCV(cv=10, error_score='raise',\n",
       "       estimator=RandomForestClassifier(bootstrap=True, class_weight=None, criterion='gini',\n",
       "            max_depth=6, max_features='auto', max_leaf_nodes=None,\n",
       "            min_impurity_decrease=0.0, min_impurity_split=None,\n",
       "            min_samples_leaf=1, min_samples_split=2,\n",
       "            min_weight_fraction_leaf=0.0, n_estimators=100, n_jobs=-1,\n",
       "            oob_score=False, random_state=42, verbose=0, warm_start=False),\n",
       "       fit_params=None, iid=True, n_jobs=-1,\n",
       "       param_grid={'max_depth': [5, 15, 25, 35]}, pre_dispatch='2*n_jobs',\n",
       "       refit=True, return_train_score='warn', scoring='f1', verbose=True)"
      ]
     },
     "execution_count": 53,
     "metadata": {},
     "output_type": "execute_result"
    }
   ],
   "source": [
    "forest_grid.fit(X_train, y_train)"
   ]
  },
  {
   "cell_type": "code",
   "execution_count": 54,
   "metadata": {},
   "outputs": [
    {
     "data": {
      "text/plain": [
       "({'max_depth': 5}, 0.8148419243028158)"
      ]
     },
     "execution_count": 54,
     "metadata": {},
     "output_type": "execute_result"
    }
   ],
   "source": [
    "forest_grid.best_params_, forest_grid.best_score_"
   ]
  },
  {
   "cell_type": "code",
   "execution_count": 55,
   "metadata": {},
   "outputs": [
    {
     "name": "stdout",
     "output_type": "stream",
     "text": [
      "             precision    recall  f1-score   support\n",
      "\n",
      "non-churned       0.87      0.79      0.83     18734\n",
      "    churned       0.78      0.86      0.82     15785\n",
      "\n",
      "avg / total       0.83      0.82      0.82     34519\n",
      "\n"
     ]
    }
   ],
   "source": [
    "print(classification_report(y_valid, forest_grid.predict(X_valid), target_names=['non-churned', 'churned']))"
   ]
  },
  {
   "cell_type": "code",
   "execution_count": 56,
   "metadata": {},
   "outputs": [],
   "source": [
    "####GradientBoosting (LIGHT)"
   ]
  },
  {
   "cell_type": "code",
   "execution_count": 57,
   "metadata": {},
   "outputs": [],
   "source": [
    "import lightgbm as lgb\n",
    "\n",
    "# Set params\n",
    "# Scores ~0.784 (without tuning and early stopping)\n",
    "params = {\n",
    "    'boosting_type': 'gbdt',\n",
    "    'max_depth' : -1,\n",
    "    'objective': 'binary',\n",
    "    'nthread': 3, # Updated from nthread\n",
    "    'num_leaves': 34,\n",
    "    'learning_rate': 0.1,\n",
    "    'max_bin': 1024,\n",
    "    'subsample_for_bin': 200,\n",
    "    'subsample': 1,\n",
    "    'subsample_freq': 1,\n",
    "    'colsample_bytree': 0.8,\n",
    "    'reg_alpha': 5,\n",
    "    'reg_lambda': 10,\n",
    "    'min_split_gain': 0.5,\n",
    "    'min_child_weight': 1,\n",
    "    'min_child_samples': 5,\n",
    "    'scale_pos_weight': 1,\n",
    "    'num_class' : 1,\n",
    "    'metric' : 'binary_logloss',\n",
    "    'num_iterations' : 200\n",
    "}\n",
    "\n",
    "gridParams = {\n",
    "    'learning_rate': [0.1],\n",
    "    'n_estimators': [40],\n",
    "    'num_leaves': [31],\n",
    "    'boosting_type' : ['gbdt'],\n",
    "    'objective' : ['binary'],\n",
    "    'random_state' : [42], # Updated from 'seed'\n",
    "    'colsample_bytree' : [0.65, 0.66],\n",
    "    'subsample' : [0.7,0.75],\n",
    "    'reg_alpha' : [1.2, 1.4],\n",
    "    'reg_lambda' : [1.2, 1.4]\n",
    "}\n",
    "\n",
    "lgbm = lgb.LGBMClassifier(\n",
    "    boosting_type= params['boosting_type'],\n",
    "    objective = params['objective'],\n",
    "    n_jobs = -1, # Updated from 'nthread'\n",
    "    silent = True,\n",
    "    max_depth = params['max_depth'],\n",
    "    max_bin = params['max_bin'],\n",
    "    subsample_for_bin = params['subsample_for_bin'],\n",
    "    subsample = params['subsample'],\n",
    "    subsample_freq = params['subsample_freq'],\n",
    "    min_split_gain = params['min_split_gain'],\n",
    "    min_child_weight = params['min_child_weight'],\n",
    "    min_child_samples = params['min_child_samples'],\n",
    "    scale_pos_weight = params['scale_pos_weight'],\n",
    "    learning_rate = params['learning_rate'],\n",
    "    num_iterations=params['num_iterations'],\n",
    "    num_leaves=params['num_leaves']\n",
    ")"
   ]
  },
  {
   "cell_type": "code",
   "execution_count": 58,
   "metadata": {},
   "outputs": [
    {
     "name": "stderr",
     "output_type": "stream",
     "text": [
      "C:\\Users\\ibelaya\\Anaconda3\\lib\\site-packages\\lightgbm\\engine.py:118: UserWarning: Found `num_iterations` in params. Will use it instead of argument\n",
      "  warnings.warn(\"Found `{}` in params. Will use it instead of argument\".format(alias))\n"
     ]
    },
    {
     "data": {
      "text/plain": [
       "LGBMClassifier(boosting_type='gbdt', class_weight=None, colsample_bytree=1.0,\n",
       "        importance_type='split', learning_rate=0.1, max_bin=1024,\n",
       "        max_depth=-1, min_child_samples=5, min_child_weight=1,\n",
       "        min_split_gain=0.5, n_estimators=100, n_jobs=-1,\n",
       "        num_iterations=200, num_leaves=34, objective='binary',\n",
       "        random_state=None, reg_alpha=0.0, reg_lambda=0.0,\n",
       "        scale_pos_weight=1, silent=True, subsample=1,\n",
       "        subsample_for_bin=200, subsample_freq=1)"
      ]
     },
     "execution_count": 58,
     "metadata": {},
     "output_type": "execute_result"
    }
   ],
   "source": [
    "lgbm.fit(X_train, y_train)"
   ]
  },
  {
   "cell_type": "code",
   "execution_count": 59,
   "metadata": {},
   "outputs": [
    {
     "name": "stdout",
     "output_type": "stream",
     "text": [
      "             precision    recall  f1-score   support\n",
      "\n",
      "Non-churned       0.87      0.79      0.83     18734\n",
      "    Churned       0.77      0.86      0.82     15785\n",
      "\n",
      "avg / total       0.83      0.82      0.82     34519\n",
      "\n"
     ]
    },
    {
     "name": "stderr",
     "output_type": "stream",
     "text": [
      "C:\\Users\\ibelaya\\Anaconda3\\lib\\site-packages\\sklearn\\preprocessing\\label.py:151: DeprecationWarning: The truth value of an empty array is ambiguous. Returning False, but in future this will result in an error. Use `array.size > 0` to check that an array is not empty.\n",
      "  if diff:\n"
     ]
    }
   ],
   "source": [
    "# F1 score для litegb - параметры НЕоптимизированы\n",
    "\n",
    "report = classification_report(y_valid, lgbm.predict(X_valid), target_names=['Non-churned', 'Churned'])\n",
    "print(report)"
   ]
  },
  {
   "cell_type": "code",
   "execution_count": 60,
   "metadata": {},
   "outputs": [
    {
     "name": "stdout",
     "output_type": "stream",
     "text": [
      "Fitting 5 folds for each of 16 candidates, totalling 80 fits\n"
     ]
    },
    {
     "name": "stderr",
     "output_type": "stream",
     "text": [
      "[Parallel(n_jobs=-1)]: Done  42 tasks      | elapsed:   41.0s\n",
      "[Parallel(n_jobs=-1)]: Done  80 out of  80 | elapsed:  1.2min finished\n",
      "C:\\Users\\ibelaya\\Anaconda3\\lib\\site-packages\\lightgbm\\engine.py:118: UserWarning: Found `num_iterations` in params. Will use it instead of argument\n",
      "  warnings.warn(\"Found `{}` in params. Will use it instead of argument\".format(alias))\n"
     ]
    },
    {
     "name": "stdout",
     "output_type": "stream",
     "text": [
      "Wall time: 1min 12s\n"
     ]
    }
   ],
   "source": [
    "%%time\n",
    "lgbm_grid = GridSearchCV(lgbm, gridParams,\n",
    "                    verbose=True,\n",
    "                    cv=5,\n",
    "                    n_jobs=-1, scoring='f1')\n",
    "lgbm_grid.fit(X_train, y_train)"
   ]
  },
  {
   "cell_type": "code",
   "execution_count": 61,
   "metadata": {},
   "outputs": [
    {
     "data": {
      "text/plain": [
       "({'boosting_type': 'gbdt',\n",
       "  'colsample_bytree': 0.65,\n",
       "  'learning_rate': 0.1,\n",
       "  'n_estimators': 40,\n",
       "  'num_leaves': 31,\n",
       "  'objective': 'binary',\n",
       "  'random_state': 42,\n",
       "  'reg_alpha': 1.2,\n",
       "  'reg_lambda': 1.4,\n",
       "  'subsample': 0.75},\n",
       " 0.81852057780635)"
      ]
     },
     "execution_count": 61,
     "metadata": {},
     "output_type": "execute_result"
    }
   ],
   "source": [
    "lgbm_grid.best_params_, lgbm_grid.best_score_"
   ]
  },
  {
   "cell_type": "code",
   "execution_count": 62,
   "metadata": {},
   "outputs": [
    {
     "name": "stdout",
     "output_type": "stream",
     "text": [
      "             precision    recall  f1-score   support\n",
      "\n",
      "Non-churned       0.87      0.79      0.83     18734\n",
      "    Churned       0.77      0.86      0.82     15785\n",
      "\n",
      "avg / total       0.83      0.82      0.82     34519\n",
      "\n"
     ]
    },
    {
     "name": "stderr",
     "output_type": "stream",
     "text": [
      "C:\\Users\\ibelaya\\Anaconda3\\lib\\site-packages\\sklearn\\preprocessing\\label.py:151: DeprecationWarning: The truth value of an empty array is ambiguous. Returning False, but in future this will result in an error. Use `array.size > 0` to check that an array is not empty.\n",
      "  if diff:\n"
     ]
    }
   ],
   "source": [
    "# F1 score для litegb - параметры НЕоптимизированы\n",
    "\n",
    "report = classification_report(y_valid, lgbm.predict(X_valid), target_names=['Non-churned', 'Churned'])\n",
    "print(report)"
   ]
  },
  {
   "cell_type": "code",
   "execution_count": 63,
   "metadata": {},
   "outputs": [
    {
     "name": "stderr",
     "output_type": "stream",
     "text": [
      "C:\\Users\\ibelaya\\Anaconda3\\lib\\site-packages\\sklearn\\preprocessing\\label.py:151: DeprecationWarning: The truth value of an empty array is ambiguous. Returning False, but in future this will result in an error. Use `array.size > 0` to check that an array is not empty.\n",
      "  if diff:\n"
     ]
    },
    {
     "name": "stdout",
     "output_type": "stream",
     "text": [
      "             precision    recall  f1-score   support\n",
      "\n",
      "Non-churned       0.87      0.80      0.83     18734\n",
      "    Churned       0.78      0.86      0.82     15785\n",
      "\n",
      "avg / total       0.83      0.82      0.82     34519\n",
      "\n"
     ]
    }
   ],
   "source": [
    "# F1 score для litegb - параметры оптимизированы\n",
    "\n",
    "report = classification_report(y_valid, lgbm_grid.predict(X_valid), target_names=['Non-churned', 'Churned'])\n",
    "print(report)"
   ]
  },
  {
   "cell_type": "code",
   "execution_count": 64,
   "metadata": {},
   "outputs": [],
   "source": [
    "####XGBOOST"
   ]
  },
  {
   "cell_type": "code",
   "execution_count": 65,
   "metadata": {},
   "outputs": [
    {
     "name": "stderr",
     "output_type": "stream",
     "text": [
      "C:\\Users\\ibelaya\\Anaconda3\\lib\\site-packages\\sklearn\\cross_validation.py:41: DeprecationWarning: This module was deprecated in version 0.18 in favor of the model_selection module into which all the refactored classes and functions are moved. Also note that the interface of the new CV iterators are different from that of this module. This module will be removed in 0.20.\n",
      "  \"This module will be removed in 0.20.\", DeprecationWarning)\n",
      "C:\\Users\\ibelaya\\Anaconda3\\lib\\site-packages\\sklearn\\grid_search.py:42: DeprecationWarning: This module was deprecated in version 0.18 in favor of the model_selection module into which all the refactored classes and functions are moved. This module will be removed in 0.20.\n",
      "  DeprecationWarning)\n"
     ]
    }
   ],
   "source": [
    "from IPython.display import display\n",
    "\n",
    "import re\n",
    "import pandas as pd\n",
    "import numpy as np\n",
    "import xgboost as xgb\n",
    "\n",
    "from sklearn import preprocessing\n",
    "from sklearn import cross_validation\n",
    "from sklearn.model_selection import KFold\n",
    "from sklearn.feature_selection import RFECV\n",
    "from sklearn.grid_search import GridSearchCV"
   ]
  },
  {
   "cell_type": "code",
   "execution_count": 66,
   "metadata": {},
   "outputs": [],
   "source": [
    "X = np.array(df_main.drop('churned', 1))\n",
    "training_features = np.array(df_main.drop('churned', 1).columns)\n",
    "#X = preprocessing.scale(X)  --- not needed for XGboost?\n",
    "y = np.array(df_main['churned'])"
   ]
  },
  {
   "cell_type": "code",
   "execution_count": 67,
   "metadata": {},
   "outputs": [
    {
     "name": "stderr",
     "output_type": "stream",
     "text": [
      "[Parallel(n_jobs=-1)]: Done   5 out of   5 | elapsed:    8.8s finished\n"
     ]
    },
    {
     "name": "stdout",
     "output_type": "stream",
     "text": [
      "[0.01672344 0.03306254 0.04562309 0.21071168 0.62944761]\n",
      "F1: 0.187 stdev: 0.23\n"
     ]
    }
   ],
   "source": [
    "xgb = xgb.XGBClassifier()\n",
    "scores = cross_validation.cross_val_score(xgb, X, y, cv=5, n_jobs=-1, verbose=True, scoring='f1')\n",
    "xgb.fit(X_train, y_train)\n",
    "print(scores)\n",
    "print('F1: %.3f stdev: %.2f' % (np.mean(np.abs(scores)), np.std(scores)))"
   ]
  },
  {
   "cell_type": "code",
   "execution_count": 68,
   "metadata": {},
   "outputs": [
    {
     "name": "stdout",
     "output_type": "stream",
     "text": [
      "             precision    recall  f1-score   support\n",
      "\n",
      "Non-churned       0.87      0.80      0.83     18734\n",
      "    Churned       0.78      0.85      0.82     15785\n",
      "\n",
      "avg / total       0.83      0.82      0.82     34519\n",
      "\n"
     ]
    },
    {
     "name": "stderr",
     "output_type": "stream",
     "text": [
      "C:\\Users\\ibelaya\\Anaconda3\\lib\\site-packages\\sklearn\\preprocessing\\label.py:151: DeprecationWarning: The truth value of an empty array is ambiguous. Returning False, but in future this will result in an error. Use `array.size > 0` to check that an array is not empty.\n",
      "  if diff:\n"
     ]
    }
   ],
   "source": [
    "report = classification_report(y_valid, xgb.predict(X_valid), target_names=['Non-churned', 'Churned'])\n",
    "print(report)"
   ]
  },
  {
   "cell_type": "code",
   "execution_count": 69,
   "metadata": {},
   "outputs": [
    {
     "name": "stdout",
     "output_type": "stream",
     "text": [
      "Fitting 5 folds for each of 56 candidates, totalling 280 fits\n"
     ]
    },
    {
     "name": "stderr",
     "output_type": "stream",
     "text": [
      "[Parallel(n_jobs=-1)]: Done  42 tasks      | elapsed:   57.2s\n",
      "[Parallel(n_jobs=-1)]: Done 192 tasks      | elapsed:  3.9min\n",
      "[Parallel(n_jobs=-1)]: Done 280 out of 280 | elapsed:  5.6min finished\n"
     ]
    },
    {
     "name": "stdout",
     "output_type": "stream",
     "text": [
      "{'learning_rate': 0.1, 'reg_lambda': 0.6}\n",
      "0.817310739378\n"
     ]
    }
   ],
   "source": [
    "xgbgridparams = {'learning_rate':[0, 0.001, 0.002, 0.004, 0.006, 0.008, 0.010, 0.1], \n",
    "       'reg_lambda':[0, 0.1, 0.2, 0.4, 0.6, 0.8, 1.0]}\n",
    "\n",
    "xgb_grid = GridSearchCV(\n",
    "    estimator=xgb,\n",
    "    param_grid=xgbgridparams,\n",
    "    scoring='f1',\n",
    "    n_jobs=-1,\n",
    "    refit=True,\n",
    "    verbose=True,\n",
    "    cv=5)\n",
    "xgb_grid.fit(X_train,y_train)\n",
    "\n",
    "print(xgb_grid.best_params_)\n",
    "print(xgb_grid.best_score_)"
   ]
  },
  {
   "cell_type": "code",
   "execution_count": 70,
   "metadata": {},
   "outputs": [
    {
     "name": "stdout",
     "output_type": "stream",
     "text": [
      "             precision    recall  f1-score   support\n",
      "\n",
      "Non-churned       0.87      0.80      0.83     18734\n",
      "    Churned       0.78      0.86      0.82     15785\n",
      "\n",
      "avg / total       0.83      0.82      0.82     34519\n",
      "\n"
     ]
    },
    {
     "name": "stderr",
     "output_type": "stream",
     "text": [
      "C:\\Users\\ibelaya\\Anaconda3\\lib\\site-packages\\sklearn\\preprocessing\\label.py:151: DeprecationWarning: The truth value of an empty array is ambiguous. Returning False, but in future this will result in an error. Use `array.size > 0` to check that an array is not empty.\n",
      "  if diff:\n"
     ]
    }
   ],
   "source": [
    "report = classification_report(y_valid, xgb_grid.predict(X_valid), target_names=['Non-churned', 'Churned'])\n",
    "print(report)"
   ]
  }
 ],
 "metadata": {
  "kernelspec": {
   "display_name": "Python 2",
   "language": "python",
   "name": "python2"
  },
  "language_info": {
   "codemirror_mode": {
    "name": "ipython",
    "version": 2
   },
   "file_extension": ".py",
   "mimetype": "text/x-python",
   "name": "python",
   "nbconvert_exporter": "python",
   "pygments_lexer": "ipython2",
   "version": "2.7.16"
  }
 },
 "nbformat": 4,
 "nbformat_minor": 2
}
