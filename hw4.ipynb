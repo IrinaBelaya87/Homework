{
 "cells": [
  {
   "cell_type": "code",
   "execution_count": 1,
   "metadata": {},
   "outputs": [],
   "source": [
    "#Задание 1"
   ]
  },
  {
   "cell_type": "code",
   "execution_count": 2,
   "metadata": {},
   "outputs": [],
   "source": [
    "from datetime import datetime, timedelta, date"
   ]
  },
  {
   "cell_type": "code",
   "execution_count": 3,
   "metadata": {},
   "outputs": [],
   "source": [
    "start_date = '2018-09-01'\n",
    "end_date = '2018-09-16'\n",
    "start_date_dt = datetime.strptime(start_date, '%Y-%m-%d')\n",
    "end_date_dt = datetime.strptime(end_date, '%Y-%m-%d')"
   ]
  },
  {
   "cell_type": "code",
   "execution_count": 4,
   "metadata": {},
   "outputs": [
    {
     "name": "stdout",
     "output_type": "stream",
     "text": [
      "2018-09-01\n",
      "2018-09-02\n",
      "2018-09-03\n",
      "2018-09-04\n",
      "2018-09-05\n",
      "2018-09-06\n",
      "2018-09-07\n",
      "2018-09-08\n",
      "2018-09-09\n",
      "2018-09-10\n",
      "2018-09-11\n",
      "2018-09-12\n",
      "2018-09-13\n",
      "2018-09-14\n",
      "2018-09-15\n",
      "2018-09-16\n"
     ]
    }
   ],
   "source": [
    "current_dt = start_date_dt\n",
    "while current_dt <= end_date_dt:\n",
    "    print(current_dt.strftime('%Y-%m-%d'))\n",
    "    current_dt += timedelta(days=1)"
   ]
  },
  {
   "cell_type": "code",
   "execution_count": 5,
   "metadata": {},
   "outputs": [],
   "source": [
    "#Задание 2"
   ]
  },
  {
   "cell_type": "code",
   "execution_count": 6,
   "metadata": {},
   "outputs": [],
   "source": [
    "def data(start_date_dt, end_date_dt):\n",
    "    day_list = []\n",
    "    try:\n",
    "        start_date = datetime.strptime(start_date_dt, '%Y-%m-%d')\n",
    "        end_date = datetime.strptime(end_date_dt,'%Y-%m-%d')\n",
    "    except:\n",
    "        return day_list\n",
    "    date = start_date\n",
    "    while date <= end_date:\n",
    "        day_list.append(date.strftime('%Y-%m-%d'))\n",
    "        date += timedelta(days=1)\n",
    "    return day_list"
   ]
  },
  {
   "cell_type": "code",
   "execution_count": 7,
   "metadata": {},
   "outputs": [
    {
     "data": {
      "text/plain": [
       "['2017-09-01',\n",
       " '2017-09-02',\n",
       " '2017-09-03',\n",
       " '2017-09-04',\n",
       " '2017-09-05',\n",
       " '2017-09-06',\n",
       " '2017-09-07',\n",
       " '2017-09-08']"
      ]
     },
     "execution_count": 7,
     "metadata": {},
     "output_type": "execute_result"
    }
   ],
   "source": [
    "data('2017-09-01', '2017-09-08')"
   ]
  },
  {
   "cell_type": "code",
   "execution_count": 8,
   "metadata": {},
   "outputs": [
    {
     "data": {
      "text/plain": [
       "[]"
      ]
     },
     "execution_count": 8,
     "metadata": {},
     "output_type": "execute_result"
    }
   ],
   "source": [
    "data('2017-09-25', '2017-01-11')"
   ]
  },
  {
   "cell_type": "code",
   "execution_count": 9,
   "metadata": {},
   "outputs": [],
   "source": [
    "#Задание 3"
   ]
  },
  {
   "cell_type": "code",
   "execution_count": 10,
   "metadata": {},
   "outputs": [],
   "source": [
    "stream = ['2018-04-02', '2018-02-29', '2018-19-02']"
   ]
  },
  {
   "cell_type": "code",
   "execution_count": 11,
   "metadata": {},
   "outputs": [],
   "source": [
    "def correct_date(stream):\n",
    "      for date in stream:\n",
    "        try:\n",
    "            datetime.strptime(date, '%Y-%m-%d')\n",
    "            print('Дата',date,'корректна')\n",
    "        except ValueError:\n",
    "            print(\"Дата\",date,\"некорректна\")           "
   ]
  },
  {
   "cell_type": "code",
   "execution_count": 12,
   "metadata": {},
   "outputs": [
    {
     "name": "stdout",
     "output_type": "stream",
     "text": [
      "Дата 2018-04-02 корректна\n",
      "Дата 2018-02-29 некорректна\n",
      "Дата 2018-19-02 некорректна\n"
     ]
    }
   ],
   "source": [
    "correct_date(stream)"
   ]
  },
  {
   "cell_type": "code",
   "execution_count": 13,
   "metadata": {},
   "outputs": [],
   "source": [
    "#Задание 4"
   ]
  },
  {
   "cell_type": "code",
   "execution_count": 14,
   "metadata": {},
   "outputs": [],
   "source": [
    "def spisok_days(end_date_dt):\n",
    "    end_date = datetime.strptime(end_date_dt, '%Y-%m-%d')\n",
    "    finish_date = end_date - timedelta(days = 1) \n",
    "    days_list = []\n",
    "    date = finish_date - timedelta(days = finish_date.day -1)\n",
    "    while date <= finish_date:\n",
    "        days_list.append(date.strftime('%Y-%m-%d'))\n",
    "        date += timedelta(days = 1)\n",
    "    return days_list"
   ]
  },
  {
   "cell_type": "code",
   "execution_count": 15,
   "metadata": {},
   "outputs": [
    {
     "data": {
      "text/plain": [
       "['2018-09-01',\n",
       " '2018-09-02',\n",
       " '2018-09-03',\n",
       " '2018-09-04',\n",
       " '2018-09-05',\n",
       " '2018-09-06',\n",
       " '2018-09-07',\n",
       " '2018-09-08',\n",
       " '2018-09-09',\n",
       " '2018-09-10',\n",
       " '2018-09-11',\n",
       " '2018-09-12',\n",
       " '2018-09-13',\n",
       " '2018-09-14',\n",
       " '2018-09-15',\n",
       " '2018-09-16',\n",
       " '2018-09-17',\n",
       " '2018-09-18',\n",
       " '2018-09-19',\n",
       " '2018-09-20',\n",
       " '2018-09-21',\n",
       " '2018-09-22',\n",
       " '2018-09-23']"
      ]
     },
     "execution_count": 15,
     "metadata": {},
     "output_type": "execute_result"
    }
   ],
   "source": [
    "spisok_days('2018-09-24')"
   ]
  },
  {
   "cell_type": "code",
   "execution_count": 16,
   "metadata": {},
   "outputs": [],
   "source": [
    "#Задание 5"
   ]
  },
  {
   "cell_type": "code",
   "execution_count": 17,
   "metadata": {},
   "outputs": [],
   "source": [
    "def get_keyword(keyword):\n",
    "    today=date.today()\n",
    "    if keyword == 'today':\n",
    "        return (datetime.strftime(today, '%Y-%m-%d'))\n",
    "    elif keyword == 'last monday':\n",
    "        res = today - timedelta(days=today.weekday())\n",
    "        return (datetime.strftime(res, '%Y-%m-%d'))\n",
    "    elif keyword == 'last day':\n",
    "        (a,b) = monthrange(today.year, today.month)\n",
    "        res = today.replace(day=b)\n",
    "        return (datetime.strftime(res, '%Y-%m-%d'))\n",
    "    else:\n",
    "        return null"
   ]
  },
  {
   "cell_type": "code",
   "execution_count": 18,
   "metadata": {},
   "outputs": [
    {
     "data": {
      "text/plain": [
       "'2018-09-17'"
      ]
     },
     "execution_count": 18,
     "metadata": {},
     "output_type": "execute_result"
    }
   ],
   "source": [
    "get_keyword('today')"
   ]
  },
  {
   "cell_type": "code",
   "execution_count": 19,
   "metadata": {},
   "outputs": [],
   "source": [
    "#Задание 6"
   ]
  },
  {
   "cell_type": "code",
   "execution_count": 20,
   "metadata": {},
   "outputs": [
    {
     "name": "stdout",
     "output_type": "stream",
     "text": [
      "2018-08-06  -  2018-08-12\n",
      "2018-08-13  -  2018-08-19\n",
      "2018-08-20  -  2018-08-26\n",
      "2018-08-27  -  2018-09-02\n",
      "2018-09-03  -  2018-09-09\n",
      "2018-09-10  -  2018-09-16\n"
     ]
    }
   ],
   "source": [
    "start_date_dt = datetime.strptime('2018-08-01', '%Y-%m-%d')\n",
    "end_date_dt = datetime.strptime('2018-09-20', '%Y-%m-%d')\n",
    "current_dt = start_date_dt\n",
    "while current_dt <= end_date_dt:\n",
    "    if current_dt.weekday() == 0 and current_dt + timedelta(days=6) <= end_date_dt:\n",
    "        last_dt = current_dt + timedelta(days=6)\n",
    "        print(current_dt.strftime('%Y-%m-%d'),' - ', last_dt.strftime('%Y-%m-%d'))\n",
    "    current_dt += timedelta(days=1)"
   ]
  }
 ],
 "metadata": {
  "kernelspec": {
   "display_name": "Python 3",
   "language": "python",
   "name": "python3"
  },
  "language_info": {
   "codemirror_mode": {
    "name": "ipython",
    "version": 3
   },
   "file_extension": ".py",
   "mimetype": "text/x-python",
   "name": "python",
   "nbconvert_exporter": "python",
   "pygments_lexer": "ipython3",
   "version": "3.6.5"
  }
 },
 "nbformat": 4,
 "nbformat_minor": 2
}
