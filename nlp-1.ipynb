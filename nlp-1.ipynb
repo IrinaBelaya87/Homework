{
 "cells": [
  {
   "cell_type": "code",
   "execution_count": 1,
   "metadata": {},
   "outputs": [],
   "source": [
    "import json\n",
    "import re\n",
    "import bz2\n",
    "import regex\n",
    "from tqdm import tqdm\n",
    "from scipy import sparse"
   ]
  },
  {
   "cell_type": "code",
   "execution_count": 2,
   "metadata": {},
   "outputs": [
    {
     "name": "stdout",
     "output_type": "stream",
     "text": [
      "Populating the interactive namespace from numpy and matplotlib\n"
     ]
    }
   ],
   "source": [
    "import pandas as pd\n",
    "import numpy as np\n",
    "import nltk\n",
    "import matplotlib.pyplot as plt\n",
    "import seaborn as sns\n",
    "%matplotlib inline\n",
    "%pylab inline"
   ]
  },
  {
   "cell_type": "code",
   "execution_count": 3,
   "metadata": {},
   "outputs": [
    {
     "name": "stderr",
     "output_type": "stream",
     "text": [
      "201030it [01:51, 1810.60it/s]\n"
     ]
    }
   ],
   "source": [
    "responses = []\n",
    "with bz2.BZ2File('banki_responses.json.bz2', 'r') as thefile:\n",
    "    for row in tqdm(thefile):\n",
    "        resp = json.loads(row)\n",
    "        if not resp['rating_not_checked'] and (len(resp['text'].split()) > 0):\n",
    "            responses.append(resp)"
   ]
  },
  {
   "cell_type": "code",
   "execution_count": 4,
   "metadata": {},
   "outputs": [
    {
     "data": {
      "text/plain": [
       "{'city': 'г. Саратов',\n",
       " 'rating_not_checked': False,\n",
       " 'title': 'Карта ко вкладу',\n",
       " 'num_comments': 0,\n",
       " 'bank_license': 'лицензия № 880',\n",
       " 'author': 'ronnichka',\n",
       " 'bank_name': 'Югра',\n",
       " 'datetime': '2015-06-03 20:56:57',\n",
       " 'text': 'Здравствуйте! Хотела написать, что мне месяц не выдают карту ко вкладу, ссылаясь на \"нам же их из Самары везут\" (на секундочку 5 часов езды от нашего города). Но! Прочитала, что людям 3,5 месяцев не выдают карту, и поняла, что у меня все хорошо, пока что. И подарок мне дали, и кулер в отделении есть. Так что я, конечно, готова ждать. Правда хотелось бы не очень долго.',\n",
       " 'rating_grade': 3}"
      ]
     },
     "execution_count": 4,
     "metadata": {},
     "output_type": "execute_result"
    }
   ],
   "source": [
    "responses[99]"
   ]
  },
  {
   "cell_type": "markdown",
   "metadata": {},
   "source": [
    "#### Посчитайте количество отзывов в разных городах и на разные банки"
   ]
  },
  {
   "cell_type": "code",
   "execution_count": 5,
   "metadata": {},
   "outputs": [
    {
     "data": {
      "text/html": [
       "<div>\n",
       "<style scoped>\n",
       "    .dataframe tbody tr th:only-of-type {\n",
       "        vertical-align: middle;\n",
       "    }\n",
       "\n",
       "    .dataframe tbody tr th {\n",
       "        vertical-align: top;\n",
       "    }\n",
       "\n",
       "    .dataframe thead th {\n",
       "        text-align: right;\n",
       "    }\n",
       "</style>\n",
       "<table border=\"1\" class=\"dataframe\">\n",
       "  <thead>\n",
       "    <tr style=\"text-align: right;\">\n",
       "      <th></th>\n",
       "      <th>author</th>\n",
       "      <th>bank_license</th>\n",
       "      <th>bank_name</th>\n",
       "      <th>city</th>\n",
       "      <th>datetime</th>\n",
       "      <th>num_comments</th>\n",
       "      <th>rating_grade</th>\n",
       "      <th>rating_not_checked</th>\n",
       "      <th>text</th>\n",
       "      <th>title</th>\n",
       "    </tr>\n",
       "  </thead>\n",
       "  <tbody>\n",
       "    <tr>\n",
       "      <th>0</th>\n",
       "      <td>uhnov1</td>\n",
       "      <td>лицензия № 2562</td>\n",
       "      <td>Бинбанк</td>\n",
       "      <td>г. Москва</td>\n",
       "      <td>2015-06-08 12:50:54</td>\n",
       "      <td>0</td>\n",
       "      <td>NaN</td>\n",
       "      <td>False</td>\n",
       "      <td>Добрый день! Я не являюсь клиентом банка и пор...</td>\n",
       "      <td>Жалоба</td>\n",
       "    </tr>\n",
       "    <tr>\n",
       "      <th>1</th>\n",
       "      <td>Foryou</td>\n",
       "      <td>лицензия № 1481</td>\n",
       "      <td>Сбербанк России</td>\n",
       "      <td>г. Новосибирск</td>\n",
       "      <td>2015-06-08 11:09:57</td>\n",
       "      <td>0</td>\n",
       "      <td>NaN</td>\n",
       "      <td>False</td>\n",
       "      <td>Доброго дня! Являюсь держателем зарплатной кар...</td>\n",
       "      <td>Не могу пользоваться услугой Сбербанк он-лайн</td>\n",
       "    </tr>\n",
       "    <tr>\n",
       "      <th>2</th>\n",
       "      <td>Vladimir84</td>\n",
       "      <td>лицензия № 2562</td>\n",
       "      <td>Бинбанк</td>\n",
       "      <td>г. Москва</td>\n",
       "      <td>2015-06-05 20:14:28</td>\n",
       "      <td>1</td>\n",
       "      <td>NaN</td>\n",
       "      <td>False</td>\n",
       "      <td>Здравствуйте!  Дублирую свое заявление от 03.0...</td>\n",
       "      <td>Двойное списание за один товар.</td>\n",
       "    </tr>\n",
       "    <tr>\n",
       "      <th>3</th>\n",
       "      <td>643609</td>\n",
       "      <td>лицензия № 1481</td>\n",
       "      <td>Сбербанк России</td>\n",
       "      <td>г. Ставрополь</td>\n",
       "      <td>2015-06-05 13:51:01</td>\n",
       "      <td>2</td>\n",
       "      <td>NaN</td>\n",
       "      <td>False</td>\n",
       "      <td>Добрый день!! Я открыл расчетный счет в СберБа...</td>\n",
       "      <td>Меняют проценты комиссии  не предупредив и не ...</td>\n",
       "    </tr>\n",
       "    <tr>\n",
       "      <th>4</th>\n",
       "      <td>anfisa-2003</td>\n",
       "      <td>лицензия № 2766</td>\n",
       "      <td>ОТП Банк</td>\n",
       "      <td>г. Челябинск</td>\n",
       "      <td>2015-06-05 10:58:12</td>\n",
       "      <td>1</td>\n",
       "      <td>NaN</td>\n",
       "      <td>False</td>\n",
       "      <td>04.03.2015 г. взяла кредит в вашем банке, заяв...</td>\n",
       "      <td>Верните денежные средства за страховку</td>\n",
       "    </tr>\n",
       "  </tbody>\n",
       "</table>\n",
       "</div>"
      ],
      "text/plain": [
       "        author     bank_license        bank_name            city  \\\n",
       "0       uhnov1  лицензия № 2562          Бинбанк       г. Москва   \n",
       "1       Foryou  лицензия № 1481  Сбербанк России  г. Новосибирск   \n",
       "2   Vladimir84  лицензия № 2562          Бинбанк       г. Москва   \n",
       "3       643609  лицензия № 1481  Сбербанк России   г. Ставрополь   \n",
       "4  anfisa-2003  лицензия № 2766         ОТП Банк    г. Челябинск   \n",
       "\n",
       "              datetime  num_comments  rating_grade  rating_not_checked  \\\n",
       "0  2015-06-08 12:50:54             0           NaN               False   \n",
       "1  2015-06-08 11:09:57             0           NaN               False   \n",
       "2  2015-06-05 20:14:28             1           NaN               False   \n",
       "3  2015-06-05 13:51:01             2           NaN               False   \n",
       "4  2015-06-05 10:58:12             1           NaN               False   \n",
       "\n",
       "                                                text  \\\n",
       "0  Добрый день! Я не являюсь клиентом банка и пор...   \n",
       "1  Доброго дня! Являюсь держателем зарплатной кар...   \n",
       "2  Здравствуйте!  Дублирую свое заявление от 03.0...   \n",
       "3  Добрый день!! Я открыл расчетный счет в СберБа...   \n",
       "4  04.03.2015 г. взяла кредит в вашем банке, заяв...   \n",
       "\n",
       "                                               title  \n",
       "0                                             Жалоба  \n",
       "1      Не могу пользоваться услугой Сбербанк он-лайн  \n",
       "2                    Двойное списание за один товар.  \n",
       "3  Меняют проценты комиссии  не предупредив и не ...  \n",
       "4             Верните денежные средства за страховку  "
      ]
     },
     "execution_count": 5,
     "metadata": {},
     "output_type": "execute_result"
    }
   ],
   "source": [
    "data = pd.DataFrame(responses)\n",
    "data.head()"
   ]
  },
  {
   "cell_type": "code",
   "execution_count": 6,
   "metadata": {},
   "outputs": [
    {
     "data": {
      "text/plain": [
       "г. Москва             55354\n",
       "г. Санкт-Петербург    14342\n",
       "г. Екатеринбург        2337\n",
       "г. Новосибирск         2300\n",
       "г. Нижний Новгород     1976\n",
       "г. Ростов-на-Дону      1891\n",
       "г. Самара              1731\n",
       "г. Челябинск           1507\n",
       "г. Казань              1440\n",
       "г. Краснодар           1262\n",
       "г. Уфа                 1246\n",
       "г. Красноярск          1236\n",
       "г. москва              1217\n",
       "г. Воронеж             1210\n",
       "г. Пермь               1163\n",
       "Name: city, dtype: int64"
      ]
     },
     "execution_count": 6,
     "metadata": {},
     "output_type": "execute_result"
    }
   ],
   "source": [
    "data['city'].value_counts().head(15)"
   ]
  },
  {
   "cell_type": "code",
   "execution_count": 7,
   "metadata": {},
   "outputs": [],
   "source": [
    "cities = data.loc[:, 'city'].copy()"
   ]
  },
  {
   "cell_type": "code",
   "execution_count": 8,
   "metadata": {},
   "outputs": [
    {
     "data": {
      "text/plain": [
       "<matplotlib.axes._subplots.AxesSubplot at 0x1eba80f8ac8>"
      ]
     },
     "execution_count": 8,
     "metadata": {},
     "output_type": "execute_result"
    },
    {
     "data": {
      "image/png": "[encoded data removed]",
      "text/plain": [
       "<Figure size 432x288 with 1 Axes>"
      ]
     },
     "metadata": {},
     "output_type": "display_data"
    }
   ],
   "source": [
    "cities_extracted = cities.reset_index().groupby('city').count().sort_values('index', ascending=False)\n",
    "sns.barplot(data=cities_extracted.reset_index().head(25), x='index', y='city', saturation=.5)"
   ]
  },
  {
   "cell_type": "code",
   "execution_count": 9,
   "metadata": {},
   "outputs": [
    {
     "data": {
      "text/plain": [
       "<matplotlib.axes._subplots.AxesSubplot at 0x1ebda9ad898>"
      ]
     },
     "execution_count": 9,
     "metadata": {},
     "output_type": "execute_result"
    },
    {
     "data": {
      "image/png": "[encoded data removed]",
      "text/plain": [
       "<Figure size 432x288 with 1 Axes>"
      ]
     },
     "metadata": {},
     "output_type": "display_data"
    }
   ],
   "source": [
    "bank_names = data.loc[:,['bank_name']].copy()\n",
    "banks = bank_names.reset_index().groupby('bank_name').count().sort_values('index', ascending=False).head(5)\n",
    "sns.barplot(data=banks.reset_index(), x='index', y='bank_name', saturation=.5)"
   ]
  },
  {
   "cell_type": "markdown",
   "metadata": {},
   "source": [
    "#### Постройте гистограмы длин слов в символах и в словах"
   ]
  },
  {
   "cell_type": "code",
   "execution_count": 10,
   "metadata": {},
   "outputs": [],
   "source": [
    "df = pd.DataFrame()\n",
    "\n",
    "lens = []\n",
    "symbols = []\n",
    "texts = []\n",
    "for resp in responses:\n",
    "    symbols.append(len(resp['text']))\n",
    "    lens.append(len(resp['text'].split(' ')))\n",
    "    texts.append(resp['text'])\n",
    "\n",
    "grades = []\n",
    "for resp in responses:\n",
    "    grades.append(resp['rating_grade'])\n",
    "\n",
    "df['lens'] = lens\n",
    "df['symbols'] = symbols\n",
    "df['texts'] = texts\n",
    "df['grades'] = grades"
   ]
  },
  {
   "cell_type": "code",
   "execution_count": 11,
   "metadata": {},
   "outputs": [],
   "source": [
    "#гистограма длин слов в словах"
   ]
  },
  {
   "cell_type": "code",
   "execution_count": 12,
   "metadata": {},
   "outputs": [
    {
     "data": {
      "image/png": "[encoded data removed]",
      "text/plain": [
       "<Figure size 432x288 with 1 Axes>"
      ]
     },
     "metadata": {},
     "output_type": "display_data"
    }
   ],
   "source": [
    "a = plt.hist(df.lens, bins = 100)"
   ]
  },
  {
   "cell_type": "code",
   "execution_count": 13,
   "metadata": {},
   "outputs": [],
   "source": [
    "#гистограма длин слов в символах"
   ]
  },
  {
   "cell_type": "code",
   "execution_count": 14,
   "metadata": {},
   "outputs": [
    {
     "data": {
      "image/png": "[encoded data removed]",
      "text/plain": [
       "<Figure size 432x288 with 1 Axes>"
      ]
     },
     "metadata": {},
     "output_type": "display_data"
    }
   ],
   "source": [
    "b = plt.hist(df.symbols, bins = 100)"
   ]
  },
  {
   "cell_type": "markdown",
   "metadata": {},
   "source": [
    "#### Найдите 10 самых частых:слов"
   ]
  },
  {
   "cell_type": "code",
   "execution_count": 15,
   "metadata": {},
   "outputs": [],
   "source": [
    "regex = re.compile(\"[А-Яа-я]+\")\n",
    "\n",
    "def words_only(text, regex=regex):\n",
    "    try:\n",
    "        return \" \".join(regex.findall(text))\n",
    "    except:\n",
    "        return \"\"\n",
    "\n",
    "\n",
    "df.texts = df.texts.str.lower()\n",
    "df.texts = df.texts.apply(words_only)"
   ]
  },
  {
   "cell_type": "code",
   "execution_count": 16,
   "metadata": {},
   "outputs": [
    {
     "name": "stdout",
     "output_type": "stream",
     "text": [
      "('в', 1330550)\n",
      "('и', 1058997)\n",
      "('не', 855335)\n",
      "('на', 707935)\n",
      "('что', 640057)\n",
      "('я', 577500)\n",
      "('с', 464037)\n",
      "('по', 372769)\n",
      "('мне', 320958)\n",
      "('банка', 275906)\n"
     ]
    }
   ],
   "source": [
    "from nltk import FreqDist\n",
    "n_types = []\n",
    "n_tokens = []\n",
    "tokens = []\n",
    "fd = FreqDist()\n",
    "for index, row in df.iterrows():\n",
    "    tokens = row['texts'].split()\n",
    "    fd.update(tokens)\n",
    "    n_types.append(len(fd))\n",
    "    n_tokens.append(sum(fd.values()))\n",
    "for i in fd.most_common(10):\n",
    "    print(i)"
   ]
  },
  {
   "cell_type": "markdown",
   "metadata": {},
   "source": [
    "#### Найдите 10 самых частых:слов без стоп-слов"
   ]
  },
  {
   "cell_type": "code",
   "execution_count": 17,
   "metadata": {},
   "outputs": [],
   "source": [
    "from nltk.corpus import stopwords\n",
    "\n",
    "mystopwords = stopwords.words('russian') + ['это', 'наш' , 'тыс', 'млн', 'млрд', 'также',  'т', 'д']\n",
    "def  remove_stopwords(text, mystopwords = mystopwords):\n",
    "    try:\n",
    "        return \" \".join([token for token in text.split() if not token in mystopwords])\n",
    "    except:\n",
    "        return \"\"\n",
    "\n",
    "def lemmatize(text):\n",
    "    m = MorphAnalyzer()\n",
    "    try:\n",
    "        lemmas1 = [m.parse(word)[0].normal_form for word in text.split()]\n",
    "        return ' '.join(lemmas1) \n",
    "    except:\n",
    "        return \" \"\n",
    "\n",
    "mystoplemmas = ['который','прошлый','сей', 'свой', 'наш', 'мочь']\n",
    "def  remove_stoplemmas(text, mystoplemmas = mystoplemmas):\n",
    "    try:\n",
    "        return \" \".join([token for token in text.split() if not token in mystoplemmas])\n",
    "    except:\n",
    "        return \"\""
   ]
  },
  {
   "cell_type": "code",
   "execution_count": 18,
   "metadata": {},
   "outputs": [],
   "source": [
    "df['no_stopw'] = df['texts'].apply(remove_stopwords)"
   ]
  },
  {
   "cell_type": "code",
   "execution_count": 19,
   "metadata": {},
   "outputs": [
    {
     "name": "stdout",
     "output_type": "stream",
     "text": [
      "('банка', 275906)\n",
      "('банк', 215426)\n",
      "('деньги', 131201)\n",
      "('карту', 105829)\n",
      "('карты', 101821)\n",
      "('кредит', 81136)\n",
      "('день', 76552)\n",
      "('банке', 72169)\n",
      "('заявление', 70423)\n",
      "('очень', 66824)\n"
     ]
    }
   ],
   "source": [
    "from nltk import FreqDist\n",
    "n_types = []\n",
    "n_tokens = []\n",
    "tokens = []\n",
    "fd = FreqDist()\n",
    "for index, row in df.iterrows():\n",
    "    tokens = row['no_stopw'].split()\n",
    "    fd.update(tokens)\n",
    "    n_types.append(len(fd))\n",
    "    n_tokens.append(sum(fd.values()))\n",
    "for i in fd.most_common(10):\n",
    "    print(i)"
   ]
  },
  {
   "cell_type": "markdown",
   "metadata": {},
   "source": [
    "#### Кривая Хипса"
   ]
  },
  {
   "cell_type": "code",
   "execution_count": 20,
   "metadata": {},
   "outputs": [
    {
     "data": {
      "image/png": "[encoded data removed]",
      "text/plain": [
       "<Figure size 432x288 with 1 Axes>"
      ]
     },
     "metadata": {},
     "output_type": "display_data"
    }
   ],
   "source": [
    "freqs = list(fd.values())\n",
    "freqs = sorted(freqs, reverse = True)\n",
    "\n",
    "fig, ax = plt.subplots()\n",
    "ax.plot(freqs[:300], range(300))\n",
    "plt.show()"
   ]
  },
  {
   "cell_type": "markdown",
   "metadata": {},
   "source": [
    "#### Найдите 10 самых частых:существительных"
   ]
  },
  {
   "cell_type": "code",
   "execution_count": 21,
   "metadata": {},
   "outputs": [],
   "source": [
    "from pymorphy2 import MorphAnalyzer"
   ]
  },
  {
   "cell_type": "code",
   "execution_count": 22,
   "metadata": {},
   "outputs": [],
   "source": [
    "from wordcloud import WordCloud"
   ]
  },
  {
   "cell_type": "code",
   "execution_count": 23,
   "metadata": {},
   "outputs": [
    {
     "data": {
      "image/png": "[encoded data removed]",
      "text/plain": [
       "<Figure size 504x288 with 1 Axes>"
      ]
     },
     "metadata": {},
     "output_type": "display_data"
    }
   ],
   "source": [
    "ma = MorphAnalyzer()\n",
    "word_freq = []\n",
    "for i in fd.most_common(200):\n",
    "    p = ma.parse(i[0])[0].tag\n",
    "    if {'NOUN'} in p:\n",
    "        word_freq.append(i)\n",
    "wd = WordCloud(background_color = 'white')\n",
    "wd.generate_from_frequencies(dict(word_freq))\n",
    "plt.figure(figsize=(7,4))\n",
    "plt.imshow(wd, interpolation = 'bilinear')\n",
    "plt.axis('off')\n",
    "plt.show()"
   ]
  },
  {
   "cell_type": "markdown",
   "metadata": {},
   "source": [
    "#### Найдите 10 самых частых:лемм"
   ]
  },
  {
   "cell_type": "code",
   "execution_count": 24,
   "metadata": {},
   "outputs": [],
   "source": [
    "from pymystem3 import Mystem\n",
    "\n",
    "m = Mystem()\n",
    "def lemmatize(text, mystem=m):\n",
    "    try:\n",
    "        return \"\".join(m.lemmatize(text)).strip()  \n",
    "    except:\n",
    "        return \" \""
   ]
  },
  {
   "cell_type": "code",
   "execution_count": 25,
   "metadata": {},
   "outputs": [
    {
     "data": {
      "application/vnd.jupyter.widget-view+json": {
       "model_id": "dd38d8b604cf4822a54812275afbf9d4",
       "version_major": 2,
       "version_minor": 0
      },
      "text/plain": [
       "HBox(children=(IntProgress(value=0, max=153499), HTML(value='')))"
      ]
     },
     "metadata": {},
     "output_type": "display_data"
    },
    {
     "name": "stdout",
     "output_type": "stream",
     "text": [
      "\n"
     ]
    }
   ],
   "source": [
    "from tqdm._tqdm_notebook import tqdm_notebook\n",
    "\n",
    "tqdm_notebook.pandas('PROGRESS>>>')\n",
    "df['lemma'] = df['no_stopw'].progress_apply(lemmatize)"
   ]
  },
  {
   "cell_type": "code",
   "execution_count": 26,
   "metadata": {},
   "outputs": [
    {
     "data": {
      "text/html": [
       "<div>\n",
       "<style scoped>\n",
       "    .dataframe tbody tr th:only-of-type {\n",
       "        vertical-align: middle;\n",
       "    }\n",
       "\n",
       "    .dataframe tbody tr th {\n",
       "        vertical-align: top;\n",
       "    }\n",
       "\n",
       "    .dataframe thead th {\n",
       "        text-align: right;\n",
       "    }\n",
       "</style>\n",
       "<table border=\"1\" class=\"dataframe\">\n",
       "  <thead>\n",
       "    <tr style=\"text-align: right;\">\n",
       "      <th></th>\n",
       "      <th>lens</th>\n",
       "      <th>symbols</th>\n",
       "      <th>texts</th>\n",
       "      <th>grades</th>\n",
       "      <th>no_stopw</th>\n",
       "      <th>lemma</th>\n",
       "    </tr>\n",
       "  </thead>\n",
       "  <tbody>\n",
       "    <tr>\n",
       "      <th>0</th>\n",
       "      <td>225</td>\n",
       "      <td>1523</td>\n",
       "      <td>добрый день я не являюсь клиентом банка и пору...</td>\n",
       "      <td>NaN</td>\n",
       "      <td>добрый день являюсь клиентом банка поручителем...</td>\n",
       "      <td>добрый день являться клиент банк поручитель кр...</td>\n",
       "    </tr>\n",
       "    <tr>\n",
       "      <th>1</th>\n",
       "      <td>141</td>\n",
       "      <td>1026</td>\n",
       "      <td>доброго дня являюсь держателем зарплатной карт...</td>\n",
       "      <td>NaN</td>\n",
       "      <td>доброго дня являюсь держателем зарплатной карт...</td>\n",
       "      <td>добрый день являться держатель зарплатной карт...</td>\n",
       "    </tr>\n",
       "    <tr>\n",
       "      <th>2</th>\n",
       "      <td>90</td>\n",
       "      <td>588</td>\n",
       "      <td>здравствуйте дублирую свое заявление от в до м...</td>\n",
       "      <td>NaN</td>\n",
       "      <td>здравствуйте дублирую свое заявление можайский...</td>\n",
       "      <td>здравствовать дублировать свой заявление можай...</td>\n",
       "    </tr>\n",
       "  </tbody>\n",
       "</table>\n",
       "</div>"
      ],
      "text/plain": [
       "   lens  symbols                                              texts  grades  \\\n",
       "0   225     1523  добрый день я не являюсь клиентом банка и пору...     NaN   \n",
       "1   141     1026  доброго дня являюсь держателем зарплатной карт...     NaN   \n",
       "2    90      588  здравствуйте дублирую свое заявление от в до м...     NaN   \n",
       "\n",
       "                                            no_stopw  \\\n",
       "0  добрый день являюсь клиентом банка поручителем...   \n",
       "1  доброго дня являюсь держателем зарплатной карт...   \n",
       "2  здравствуйте дублирую свое заявление можайский...   \n",
       "\n",
       "                                               lemma  \n",
       "0  добрый день являться клиент банк поручитель кр...  \n",
       "1  добрый день являться держатель зарплатной карт...  \n",
       "2  здравствовать дублировать свой заявление можай...  "
      ]
     },
     "execution_count": 26,
     "metadata": {},
     "output_type": "execute_result"
    }
   ],
   "source": [
    "df.head(3)"
   ]
  },
  {
   "cell_type": "code",
   "execution_count": 29,
   "metadata": {},
   "outputs": [],
   "source": [
    "df.to_csv('lemmatized.csv')"
   ]
  },
  {
   "cell_type": "code",
   "execution_count": 30,
   "metadata": {},
   "outputs": [],
   "source": [
    "df = pd.read_csv('lemmatized.csv')"
   ]
  },
  {
   "cell_type": "code",
   "execution_count": 45,
   "metadata": {},
   "outputs": [
    {
     "name": "stdout",
     "output_type": "stream",
     "text": [
      "Слово \"сотрудник\" встрчается -\" 31189 раз\n",
      "Слово \"клиент\" встрчается -\" 20160 раз\n",
      "True\n"
     ]
    }
   ],
   "source": [
    "print('Слово \"сотрудник\" встрчается -\"',fd['сотрудник'],'раз')\n",
    "print('Слово \"клиент\" встрчается -\"',fd['клиент'],'раз')\n",
    "print(fd['сотрудник'] >fd['клиент'])"
   ]
  },
  {
   "cell_type": "code",
   "execution_count": 47,
   "metadata": {},
   "outputs": [
    {
     "name": "stdout",
     "output_type": "stream",
     "text": [
      "Слово \"мошенничество\" встречается -\" 1106 раз\n",
      "Слово \"доверие\" встручается -\" 1156 раз\n"
     ]
    }
   ],
   "source": [
    "print('Слово \"мошенничество\" встречается -\"',fd['мошенничество'],'раз')\n",
    "print('Слово \"доверие\" встручается -\"',fd['доверие'],'раз')"
   ]
  },
  {
   "cell_type": "markdown",
   "metadata": {},
   "source": [
    "#### Часть 2. Тематическое моделирование [20/100]\n",
    "Постройте несколько тематических моделей коллекции документов с разным числом тем. Приведите примеры понятных (интерпретируемых) тем.\n",
    "Найдите темы, в которых упомянуты конкретные банки (Сбербанк, ВТБ, другой банк). Можете ли вы их прокомментировать / объяснить?\n",
    "Эта часть задания может быть сделана с использованием gensim."
   ]
  },
  {
   "cell_type": "code",
   "execution_count": 37,
   "metadata": {},
   "outputs": [],
   "source": [
    "import gensim"
   ]
  },
  {
   "cell_type": "code",
   "execution_count": 38,
   "metadata": {},
   "outputs": [],
   "source": [
    "df.drop([153116,145330], inplace=True)"
   ]
  },
  {
   "cell_type": "code",
   "execution_count": 40,
   "metadata": {},
   "outputs": [],
   "source": [
    "from gensim.corpora import *\n",
    "texts = [df.lemma.iloc[i].split() for i in range(len(df))]\n",
    "dictionary = Dictionary(texts)\n",
    "corpus = [dictionary.doc2bow(text) for text in texts]"
   ]
  },
  {
   "cell_type": "code",
   "execution_count": 41,
   "metadata": {},
   "outputs": [
    {
     "name": "stdout",
     "output_type": "stream",
     "text": [
      "Wall time: 2.95 s\n"
     ]
    }
   ],
   "source": [
    "%%time\n",
    "from gensim.models import  *\n",
    "from gensim import similarities\n",
    "\n",
    "tfidf = TfidfModel(corpus)\n",
    "corpus_tfidf = tfidf[corpus]"
   ]
  },
  {
   "cell_type": "code",
   "execution_count": 42,
   "metadata": {},
   "outputs": [
    {
     "name": "stdout",
     "output_type": "stream",
     "text": [
      "Wall time: 1min 28s\n"
     ]
    }
   ],
   "source": [
    "%%time\n",
    "lsi = lsimodel.LsiModel(corpus=corpus_tfidf, id2word=dictionary, num_topics=30)"
   ]
  },
  {
   "cell_type": "code",
   "execution_count": 48,
   "metadata": {},
   "outputs": [
    {
     "data": {
      "text/plain": [
       "[(0,\n",
       "  '0.191*\"карта\" + 0.131*\"кредит\" + 0.113*\"деньги\" + 0.107*\"заявление\" + 0.105*\"счет\" + 0.100*\"банкомат\" + 0.099*\"вклад\" + 0.099*\"отделение\" + 0.094*\"сбербанк\" + 0.094*\"сумма\"'),\n",
       " (1,\n",
       "  '-0.433*\"вклад\" + 0.338*\"кредит\" + -0.181*\"банкомат\" + 0.152*\"страховка\" + 0.147*\"платеж\" + 0.147*\"задолженность\" + -0.146*\"карта\" + -0.139*\"открывать\" + 0.135*\"погашение\" + -0.120*\"очередь\"'),\n",
       " (2,\n",
       "  '-0.445*\"вклад\" + 0.300*\"банкомат\" + 0.235*\"карта\" + 0.191*\"сбербанк\" + -0.169*\"кредит\" + 0.132*\"операция\" + 0.132*\"деньги\" + 0.130*\"заявление\" + -0.127*\"договор\" + 0.122*\"средство\"'),\n",
       " (3,\n",
       "  '-0.271*\"вклад\" + -0.218*\"сумма\" + 0.191*\"номер\" + -0.185*\"руб\" + 0.180*\"заявка\" + -0.163*\"платеж\" + -0.160*\"погашение\" + -0.154*\"договор\" + -0.147*\"процент\" + 0.145*\"звонок\"'),\n",
       " (4,\n",
       "  '0.329*\"вклад\" + 0.265*\"номер\" + -0.250*\"карта\" + -0.211*\"страховка\" + -0.189*\"заявка\" + 0.189*\"звонок\" + -0.147*\"кредит\" + 0.138*\"ваш\" + 0.136*\"телефон\" + -0.121*\"лимит\"')]"
      ]
     },
     "execution_count": 48,
     "metadata": {},
     "output_type": "execute_result"
    }
   ],
   "source": [
    "lsi.show_topics(5)"
   ]
  },
  {
   "cell_type": "markdown",
   "metadata": {},
   "source": [
    "Часть 3. Классификация текстов [40/100]\n",
    "Сформулируем для простоты задачу бинарной классификации: будем классифицировать на два класса, то есть, различать резко отрицательные отзывы (с оценкой 1) и положительные отзывы (с оценкой 5).\n",
    "\n",
    "Составьте обучающее и тестовое множество: выберите из всего набора данных N1 отзывов с оценкой 1 и N2 отзывов с оценкой 5 (значение N1 и N2 – на ваше усмотрение). Используйте sklearn.model_selection.train_test_split для разделения множества отобранных документов на обучающее и тестовое.\n",
    "Используйте любой известный вам алгоритм классификации текстов для решения задачи и получите baseline. Сравните разные варианты векторизации текста: использование только униграм, пар или троек слов или с использованием символьных $n$-грам.\n",
    "Сравните, как изменяется качество решения задачи при использовании скрытых тем в качестве признаков:\n",
    "1-ый вариант: $tf-idf$ преобразование (sklearn.feature_extraction.text.TfidfTransformer) и сингулярное разложение (оно же – латентый семантический анализ) (sklearn.decomposition.TruncatedSVD),\n",
    "2-ой вариант: тематические модели LDA (sklearn.decomposition.LatentDirichletAllocation).\n",
    "Используйте accuracy и F-measure для оценки качества классификации.\n",
    "\n",
    "Ниже написан примерный Pipeline для классификации текстов.\n",
    "\n",
    "Эта часть задания может быть сделана с использованием sklearn.# "
   ]
  },
  {
   "cell_type": "markdown",
   "metadata": {},
   "source": [
    "#### Подготовка данных"
   ]
  },
  {
   "cell_type": "code",
   "execution_count": 49,
   "metadata": {},
   "outputs": [
    {
     "data": {
      "text/plain": [
       "(49679, 49679, 12420, 12420)"
      ]
     },
     "execution_count": 49,
     "metadata": {},
     "output_type": "execute_result"
    }
   ],
   "source": [
    "df2 = df[(df['grades'] == 1) | (df['grades'] == 5)]\n",
    "Y = df2['grades']\n",
    "X = df2.drop('grades', axis = 1)\n",
    "from sklearn.model_selection import StratifiedShuffleSplit\n",
    "splitter = StratifiedShuffleSplit(n_splits=1, test_size=0.2, random_state=777)\n",
    "\n",
    "for train_index, test_index in splitter.split(X, Y):\n",
    "    X_train = X.iloc[train_index]\n",
    "    X_test = X.iloc[test_index]\n",
    "    \n",
    "    Y_train = Y.iloc[train_index]\n",
    "    Y_test = Y.iloc[test_index]\n",
    "len(X_train), len(Y_train), len(X_test), len(Y_test)"
   ]
  },
  {
   "cell_type": "code",
   "execution_count": 50,
   "metadata": {},
   "outputs": [
    {
     "name": "stderr",
     "output_type": "stream",
     "text": [
      "C:\\Users\\ibelaya\\Anaconda3\\lib\\site-packages\\sklearn\\ensemble\\weight_boosting.py:29: DeprecationWarning: numpy.core.umath_tests is an internal NumPy module and should not be imported. It will be removed in a future NumPy release.\n",
      "  from numpy.core.umath_tests import inner1d\n"
     ]
    }
   ],
   "source": [
    "from sklearn.pipeline import Pipeline\n",
    "from sklearn.manifold import TSNE\n",
    "from sklearn.ensemble import RandomForestClassifier\n",
    "from sklearn.decomposition import *\n",
    "from sklearn.feature_extraction.text import *\n",
    "from sklearn.metrics import *"
   ]
  },
  {
   "cell_type": "markdown",
   "metadata": {},
   "source": [
    "#### tf-idf + svd"
   ]
  },
  {
   "cell_type": "code",
   "execution_count": 51,
   "metadata": {},
   "outputs": [
    {
     "data": {
      "text/plain": [
       "49411     март год обращаться офис г владивосток океанск...\n",
       "105566    я произош л й случай внесение наличный денежны...\n",
       "153192    хотеть вступаться ситибанк являться зарплатной...\n",
       "114422    день добрый мой жалоба сбербанк вернуть деньги...\n",
       "139009    ого число открывать депозит заказывать карта п...\n",
       "127557    руководитель небольшой достаточно молодой орга...\n",
       "42407     добрый день хотеться спрашивать смотреть руков...\n",
       "101099    сентябрь год пытаться оформлять кредитный карт...\n",
       "106095    беда сотрудник компания который работать муж р...\n",
       "68976     добрый день являться клиент банк оформлять кк ...\n",
       "101340    прошедший пятница год пытаться полагать карта ...\n",
       "29146     месяц доставать звонок альфа банк повод некий ...\n",
       "14555     долгий сотрудничество другой банк решать отказ...\n",
       "74733     офис прежний никто брать трубка процент вклад ...\n",
       "80015     добрый день все хотеть рассказывать легкий рук...\n",
       "99074     март год поменять фамилия тот пора несколько п...\n",
       "2116      октябрь заказывать банк дебетовый карта поскол...\n",
       "143149    написать отделение мега химки май заявление за...\n",
       "35196     уважаемый сотрудник банк просить решать ситуац...\n",
       "123700    осень прошлый год жена открывать пополнять вкл...\n",
       "8581      здравствовать сегодня час ночь попытаться опла...\n",
       "129693    встречаться абсолютно неграмотный непрофессион...\n",
       "142960    добрый день являться сотрудник другой банк рас...\n",
       "72529     июль г воспользоваться услуга зачисление налич...\n",
       "123834    сегодня позвонить консультация улица солянка я...\n",
       "108817    общество ограниченный ответственность мир стро...\n",
       "124132    добрый день уважаемый буквально вчера хотеть п...\n",
       "148444    заполнять анкета телефон пятница январь первый...\n",
       "5199      надеяться получать ответ волновать важный вопр...\n",
       "72435     поступать предложение банк оформлять кредитный...\n",
       "                                ...                        \n",
       "132297    банк русский стандарт связывать неприятный ист...\n",
       "72167     здравствовать хотеть предупреждать существующи...\n",
       "135093    негативный отзыв собираться написать легкий по...\n",
       "122977    здравствовать честно сказать пребывать некотор...\n",
       "128490    скорость качество обслуживание складываться мо...\n",
       "11957     отделение сбербанк мама оплачивать услуга жкх ...\n",
       "20157     приветствовать заказывать карточка банк пользо...\n",
       "74773     стоять полтора час отделение банк железнодорож...\n",
       "68301     добрый день апрель текущий год обращаться отде...\n",
       "66422     сентябрь написать заявление закрытие три карта...\n",
       "85074     добрый день год отд сбербанк город киров ул ле...\n",
       "49463     рекомендовать никто получать отправлять перево...\n",
       "149197    неожиданно обнаруживать альфа банк изменяться ...\n",
       "40218     месяц назад приходить отделение совкомбанк цел...\n",
       "9682      дождаться никакой реакция банк лично приезжать...\n",
       "9329      зайти сбербанк ул чертановский работа полагать...\n",
       "147424    прошлый год муж решать взять телефон кредит се...\n",
       "150799    нормальный банк брать быстро кредит полянка вы...\n",
       "136050    диалог лицо клиент качество ужасный такой неув...\n",
       "152207    поделиться свой мнение мдб банк получать креди...\n",
       "88049     марта хотеть открывать депозитный сч филиал ба...\n",
       "124733    февраль январь помнить точно год нужно перевод...\n",
       "79540     добрый день проблема возникать банкомат г щелк...\n",
       "152556    являться вкладчик несколько год вежливый работ...\n",
       "65513     добрый утро сегодня рабочий день начинаться зв...\n",
       "99161     сталкиваться проблема второй очень неприятно п...\n",
       "143330    ознакомляться условие выдача автокредит сайт в...\n",
       "31105     проживать иркутск клиент ваш банк являться выс...\n",
       "35379     банк открытие проходить акция обнулять комисси...\n",
       "121702    здравствовать брат русский стандарт думать заб...\n",
       "Name: lemma, Length: 49679, dtype: object"
      ]
     },
     "execution_count": 51,
     "metadata": {},
     "output_type": "execute_result"
    }
   ],
   "source": [
    "X_train['lemma']"
   ]
  },
  {
   "cell_type": "code",
   "execution_count": 54,
   "metadata": {},
   "outputs": [
    {
     "name": "stdout",
     "output_type": "stream",
     "text": [
      "Precision:   0.57\n",
      "Recall:   0.54\n",
      "F1-measure:   0.54\n",
      "Accuracy:   0.73\n",
      "             precision    recall  f1-score   support\n",
      "\n",
      "        1.0       0.78      0.91      0.84      9477\n",
      "        5.0       0.36      0.17      0.23      2943\n",
      "\n",
      "avg / total       0.68      0.73      0.69     12420\n",
      "\n"
     ]
    }
   ],
   "source": [
    "clf = Pipeline([ \n",
    "    ('vect', CountVectorizer()), \n",
    "    ('tfidf', TfidfTransformer()), \n",
    "    ('tm', TruncatedSVD()), \n",
    "    ('clf', RandomForestClassifier())\n",
    "])\n",
    "\n",
    "clf.fit(X_train['lemma'], Y_train)\n",
    "true = Y_test\n",
    "predictions = clf.predict(X_test['lemma'])\n",
    "\n",
    "print(\"Precision: {0:6.2f}\".format(precision_score(true, predictions, average='macro')))\n",
    "print(\"Recall: {0:6.2f}\".format(recall_score(true, predictions, average='macro')))\n",
    "print(\"F1-measure: {0:6.2f}\".format(f1_score(true, predictions, average='macro')))\n",
    "print(\"Accuracy: {0:6.2f}\".format(accuracy_score(true, predictions)))\n",
    "print(classification_report(true, predictions))"
   ]
  },
  {
   "cell_type": "markdown",
   "metadata": {},
   "source": [
    "#### LDA"
   ]
  },
  {
   "cell_type": "code",
   "execution_count": 55,
   "metadata": {},
   "outputs": [
    {
     "name": "stderr",
     "output_type": "stream",
     "text": [
      "C:\\Users\\ibelaya\\Anaconda3\\lib\\site-packages\\sklearn\\decomposition\\online_lda.py:536: DeprecationWarning: The default value for 'learning_method' will be changed from 'online' to 'batch' in the release 0.20. This warning was introduced in 0.18.\n",
      "  DeprecationWarning)\n"
     ]
    },
    {
     "name": "stdout",
     "output_type": "stream",
     "text": [
      "Precision:   0.86\n",
      "Recall:   0.81\n",
      "F1-measure:   0.83\n",
      "Accuracy:   0.89\n",
      "             precision    recall  f1-score   support\n",
      "\n",
      "        1.0       0.90      0.95      0.93      9477\n",
      "        5.0       0.82      0.66      0.73      2943\n",
      "\n",
      "avg / total       0.88      0.89      0.88     12420\n",
      "\n"
     ]
    }
   ],
   "source": [
    "clf = Pipeline([ \n",
    "    ('vect', CountVectorizer()), \n",
    "    ('lda', LatentDirichletAllocation()), \n",
    "    ('clf', RandomForestClassifier())\n",
    "])\n",
    "\n",
    "clf.fit(X_train['lemma'], Y_train)\n",
    "predictions = clf.predict(X_test['lemma'])\n",
    "\n",
    "print(\"Precision: {0:6.2f}\".format(precision_score(true, predictions, average='macro')))\n",
    "print(\"Recall: {0:6.2f}\".format(recall_score(true, predictions, average='macro')))\n",
    "print(\"F1-measure: {0:6.2f}\".format(f1_score(true, predictions, average='macro')))\n",
    "print(\"Accuracy: {0:6.2f}\".format(accuracy_score(true, predictions)))\n",
    "print(classification_report(true, predictions))"
   ]
  },
  {
   "cell_type": "code",
   "execution_count": 57,
   "metadata": {},
   "outputs": [],
   "source": [
    "a = CountVectorizer(analyzer = 'char', ngram_range={2,3}).fit_transform(X_train['lemma'])"
   ]
  },
  {
   "cell_type": "code",
   "execution_count": 58,
   "metadata": {},
   "outputs": [],
   "source": [
    "b = TfidfTransformer().fit_transform(a)\n",
    "c = TruncatedSVD(n_components=5, random_state=0).fit_transform(b)"
   ]
  },
  {
   "cell_type": "code",
   "execution_count": 59,
   "metadata": {},
   "outputs": [],
   "source": [
    "d = TSNE(n_components=2, perplexity=5, verbose=0).fit_transform(c)\n",
    "e = RandomForestClassifier()"
   ]
  }
 ],
 "metadata": {
  "kernelspec": {
   "display_name": "Python 3",
   "language": "python",
   "name": "python3"
  },
  "language_info": {
   "codemirror_mode": {
    "name": "ipython",
    "version": 3
   },
   "file_extension": ".py",
   "mimetype": "text/x-python",
   "name": "python",
   "nbconvert_exporter": "python",
   "pygments_lexer": "ipython3",
   "version": "3.6.5"
  }
 },
 "nbformat": 4,
 "nbformat_minor": 2
}
