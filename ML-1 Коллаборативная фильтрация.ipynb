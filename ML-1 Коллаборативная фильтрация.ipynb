{
 "cells": [
  {
   "cell_type": "code",
   "execution_count": 1,
   "metadata": {},
   "outputs": [],
   "source": [
    "import pandas as pd\n",
    "import numpy as np\n",
    "\n",
    "\n",
    "from surprise import KNNWithZScore,KNNWithMeans\n",
    "from surprise import Dataset\n",
    "from surprise import accuracy\n",
    "from surprise import Reader\n",
    "\n",
    "from surprise.model_selection import train_test_split"
   ]
  },
  {
   "cell_type": "code",
   "execution_count": 2,
   "metadata": {},
   "outputs": [],
   "source": [
    "movies = pd.read_csv('movies.csv')\n",
    "ratings = pd.read_csv('ratings.csv')"
   ]
  },
  {
   "cell_type": "code",
   "execution_count": 3,
   "metadata": {},
   "outputs": [],
   "source": [
    "movies_with_ratings = movies.join(ratings.set_index('movieId'), on='movieId').reset_index(drop=True)\n",
    "movies_with_ratings.dropna(inplace=True)"
   ]
  },
  {
   "cell_type": "code",
   "execution_count": 4,
   "metadata": {},
   "outputs": [],
   "source": [
    "dataset = pd.DataFrame({\n",
    "    'uid': movies_with_ratings.userId,\n",
    "    'iid': movies_with_ratings.movieId,\n",
    "    'ratings': movies_with_ratings.rating\n",
    "})"
   ]
  },
  {
   "cell_type": "code",
   "execution_count": 5,
   "metadata": {},
   "outputs": [],
   "source": [
    "reader = Reader(rating_scale=(0.5, 5.0))\n",
    "data = Dataset.load_from_df(dataset, reader)"
   ]
  },
  {
   "cell_type": "code",
   "execution_count": 6,
   "metadata": {},
   "outputs": [],
   "source": [
    "algo = KNNWithMeans(k=50, sim_options={'name': 'cosine', 'user_based': False})"
   ]
  },
  {
   "cell_type": "code",
   "execution_count": 7,
   "metadata": {},
   "outputs": [],
   "source": [
    "trainset, testset = train_test_split(data, test_size=.30)"
   ]
  },
  {
   "cell_type": "code",
   "execution_count": 8,
   "metadata": {},
   "outputs": [
    {
     "name": "stdout",
     "output_type": "stream",
     "text": [
      "Computing the cosine similarity matrix...\n",
      "Done computing similarity matrix.\n"
     ]
    },
    {
     "data": {
      "text/plain": [
       "<surprise.prediction_algorithms.knns.KNNWithMeans at 0x2479ea3d320>"
      ]
     },
     "execution_count": 8,
     "metadata": {},
     "output_type": "execute_result"
    }
   ],
   "source": [
    "algo.fit(trainset)"
   ]
  },
  {
   "cell_type": "code",
   "execution_count": 9,
   "metadata": {},
   "outputs": [],
   "source": [
    "test_pred = algo.test(testset)"
   ]
  },
  {
   "cell_type": "code",
   "execution_count": 10,
   "metadata": {},
   "outputs": [
    {
     "name": "stdout",
     "output_type": "stream",
     "text": [
      "RMSE: 0.9069\n"
     ]
    },
    {
     "data": {
      "text/plain": [
       "0.9068847109009078"
      ]
     },
     "execution_count": 10,
     "metadata": {},
     "output_type": "execute_result"
    }
   ],
   "source": [
    "accuracy.rmse(test_pred, verbose=True)"
   ]
  },
  {
   "cell_type": "code",
   "execution_count": 11,
   "metadata": {},
   "outputs": [
    {
     "data": {
      "text/html": [
       "<div>\n",
       "<style scoped>\n",
       "    .dataframe tbody tr th:only-of-type {\n",
       "        vertical-align: middle;\n",
       "    }\n",
       "\n",
       "    .dataframe tbody tr th {\n",
       "        vertical-align: top;\n",
       "    }\n",
       "\n",
       "    .dataframe thead th {\n",
       "        text-align: right;\n",
       "    }\n",
       "</style>\n",
       "<table border=\"1\" class=\"dataframe\">\n",
       "  <thead>\n",
       "    <tr style=\"text-align: right;\">\n",
       "      <th></th>\n",
       "      <th>userId</th>\n",
       "      <th>movieId</th>\n",
       "      <th>title</th>\n",
       "      <th>rating_pred</th>\n",
       "    </tr>\n",
       "  </thead>\n",
       "  <tbody>\n",
       "    <tr>\n",
       "      <th>4694</th>\n",
       "      <td>5</td>\n",
       "      <td>7071</td>\n",
       "      <td>Woman Under the Influence, A (1974)</td>\n",
       "      <td>5.0</td>\n",
       "    </tr>\n",
       "    <tr>\n",
       "      <th>487</th>\n",
       "      <td>5</td>\n",
       "      <td>626</td>\n",
       "      <td>Thin Line Between Love and Hate, A (1996)</td>\n",
       "      <td>5.0</td>\n",
       "    </tr>\n",
       "    <tr>\n",
       "      <th>3223</th>\n",
       "      <td>5</td>\n",
       "      <td>4429</td>\n",
       "      <td>Moby Dick (1956)</td>\n",
       "      <td>5.0</td>\n",
       "    </tr>\n",
       "    <tr>\n",
       "      <th>4060</th>\n",
       "      <td>5</td>\n",
       "      <td>5890</td>\n",
       "      <td>Elling (2001)</td>\n",
       "      <td>5.0</td>\n",
       "    </tr>\n",
       "    <tr>\n",
       "      <th>4623</th>\n",
       "      <td>5</td>\n",
       "      <td>6983</td>\n",
       "      <td>Jane Eyre (1944)</td>\n",
       "      <td>5.0</td>\n",
       "    </tr>\n",
       "    <tr>\n",
       "      <th>4011</th>\n",
       "      <td>5</td>\n",
       "      <td>5786</td>\n",
       "      <td>Paid in Full (2002)</td>\n",
       "      <td>5.0</td>\n",
       "    </tr>\n",
       "    <tr>\n",
       "      <th>984</th>\n",
       "      <td>5</td>\n",
       "      <td>1341</td>\n",
       "      <td>Burnt Offerings (1976)</td>\n",
       "      <td>5.0</td>\n",
       "    </tr>\n",
       "    <tr>\n",
       "      <th>2563</th>\n",
       "      <td>5</td>\n",
       "      <td>3496</td>\n",
       "      <td>Madame Sousatzka (1988)</td>\n",
       "      <td>5.0</td>\n",
       "    </tr>\n",
       "    <tr>\n",
       "      <th>3995</th>\n",
       "      <td>5</td>\n",
       "      <td>5746</td>\n",
       "      <td>Galaxy of Terror (Quest) (1981)</td>\n",
       "      <td>5.0</td>\n",
       "    </tr>\n",
       "    <tr>\n",
       "      <th>5148</th>\n",
       "      <td>5</td>\n",
       "      <td>8477</td>\n",
       "      <td>Jetée, La (1962)</td>\n",
       "      <td>5.0</td>\n",
       "    </tr>\n",
       "  </tbody>\n",
       "</table>\n",
       "</div>"
      ],
      "text/plain": [
       "     userId movieId                                      title  rating_pred\n",
       "4694      5    7071        Woman Under the Influence, A (1974)          5.0\n",
       "487       5     626  Thin Line Between Love and Hate, A (1996)          5.0\n",
       "3223      5    4429                           Moby Dick (1956)          5.0\n",
       "4060      5    5890                              Elling (2001)          5.0\n",
       "4623      5    6983                           Jane Eyre (1944)          5.0\n",
       "4011      5    5786                        Paid in Full (2002)          5.0\n",
       "984       5    1341                     Burnt Offerings (1976)          5.0\n",
       "2563      5    3496                    Madame Sousatzka (1988)          5.0\n",
       "3995      5    5746            Galaxy of Terror (Quest) (1981)          5.0\n",
       "5148      5    8477                           Jetée, La (1962)          5.0"
      ]
     },
     "execution_count": 11,
     "metadata": {},
     "output_type": "execute_result"
    }
   ],
   "source": [
    "uid=5\n",
    "\n",
    "def personal_predistions(uid):\n",
    "    df = pd.DataFrame(columns=['userId', 'movieId', 'title', 'rating_pred'])\n",
    "    uid_movies = movies_with_ratings[(movies_with_ratings.userId==uid)].movieId.values\n",
    "    iid_movies = [i for i in movies_with_ratings.movieId.unique() if i not in uid_movies]\n",
    "    for i in iid_movies:\n",
    "        if trainset.knows_item(i):\n",
    "            if len(movies[(movies.movieId==i)])!=0:\n",
    "                title = ''.join(movies[(movies.movieId==i)].title.values)\n",
    "                prediction = algo.predict(uid=uid, iid=i)\n",
    "                df = df.append({'userId': uid, 'movieId': i, 'title':title, 'rating_pred': prediction.est}, ignore_index=True)\n",
    "    return df.sort_values('rating_pred', ascending=False).head(10)\n",
    "\n",
    "personal_predistions(uid)"
   ]
  },
  {
   "cell_type": "code",
   "execution_count": 13,
   "metadata": {},
   "outputs": [
    {
     "data": {
      "text/plain": [
       "Prediction(uid=5, iid=626, r_ui=None, est=5.0, details={'actual_k': 1, 'was_impossible': False})"
      ]
     },
     "execution_count": 13,
     "metadata": {},
     "output_type": "execute_result"
    }
   ],
   "source": [
    "algo.predict(uid=5, iid=626)"
   ]
  }
 ],
 "metadata": {
  "kernelspec": {
   "display_name": "Python 3",
   "language": "python",
   "name": "python3"
  },
  "language_info": {
   "codemirror_mode": {
    "name": "ipython",
    "version": 3
   },
   "file_extension": ".py",
   "mimetype": "text/x-python",
   "name": "python",
   "nbconvert_exporter": "python",
   "pygments_lexer": "ipython3",
   "version": "3.6.5"
  }
 },
 "nbformat": 4,
 "nbformat_minor": 2
}
