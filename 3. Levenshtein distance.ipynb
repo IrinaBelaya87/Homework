{
 "cells": [
  {
   "cell_type": "markdown",
   "metadata": {},
   "source": [
    "# Поиск наиболее близкого имени участника"
   ]
  },
  {
   "cell_type": "code",
   "execution_count": 2,
   "metadata": {},
   "outputs": [
    {
     "ename": "ModuleNotFoundError",
     "evalue": "No module named 'Levenshtein'",
     "output_type": "error",
     "traceback": [
      "\u001b[1;31m---------------------------------------------------------------------------\u001b[0m",
      "\u001b[1;31mModuleNotFoundError\u001b[0m                       Traceback (most recent call last)",
      "\u001b[1;32m<ipython-input-2-b505a2d7ef3c>\u001b[0m in \u001b[0;36m<module>\u001b[1;34m()\u001b[0m\n\u001b[0;32m      2\u001b[0m \u001b[1;31m# или pip install python-levenshtein\u001b[0m\u001b[1;33m\u001b[0m\u001b[1;33m\u001b[0m\u001b[0m\n\u001b[0;32m      3\u001b[0m \u001b[1;33m\u001b[0m\u001b[0m\n\u001b[1;32m----> 4\u001b[1;33m \u001b[1;32mimport\u001b[0m \u001b[0mLevenshtein\u001b[0m\u001b[1;33m\u001b[0m\u001b[0m\n\u001b[0m",
      "\u001b[1;31mModuleNotFoundError\u001b[0m: No module named 'Levenshtein'"
     ]
    }
   ],
   "source": [
    "# conda install -c conda-forge python-levenshtein\n",
    "# или pip install python-levenshtein\n",
    "\n",
    "import Levenshtein"
   ]
  },
  {
   "cell_type": "code",
   "execution_count": 3,
   "metadata": {},
   "outputs": [],
   "source": [
    "# что было написано в заявке\n",
    "\n",
    "claim_list = [\n",
    "    'Шехавцова Анна',\n",
    "    'Гречихина Наталья',\n",
    "    'Козлова Алена',\n",
    "    'Груздева Алина',\n",
    "    'Кущенко Анна',\n",
    "    'Чистякова Анастасия'\n",
    "]"
   ]
  },
  {
   "cell_type": "code",
   "execution_count": null,
   "metadata": {},
   "outputs": [],
   "source": [
    "# результат расшифровки речи диктора\n",
    "\n",
    "speech_recognition = [\n",
    "    'кучменко она',\n",
    "    'кущенко оксана',\n",
    "    'груздь алина',\n",
    "    'рычихина наталья',\n",
    "    'шиховцева на',\n",
    "    'чистова анастасия'\n",
    "]"
   ]
  },
  {
   "cell_type": "markdown",
   "metadata": {},
   "source": [
    "### С библиотекой Levenshtein"
   ]
  },
  {
   "cell_type": "code",
   "execution_count": null,
   "metadata": {},
   "outputs": [],
   "source": [
    "Levenshtein.distance('Оксана', 'Анна')"
   ]
  },
  {
   "cell_type": "code",
   "execution_count": null,
   "metadata": {},
   "outputs": [],
   "source": [
    "for recognized_name in speech_recognition:\n",
    "    print(recognized_name)"
   ]
  },
  {
   "cell_type": "code",
   "execution_count": null,
   "metadata": {},
   "outputs": [],
   "source": [
    "for recognized_name in speech_recognition:\n",
    "    for real_name in claim_list:\n",
    "        print('{},{},{}'.format(recognized_name, real_name, Levenshtein.distance(recognized_name, real_name)))"
   ]
  },
  {
   "cell_type": "markdown",
   "metadata": {},
   "source": [
    "### Без библиотеки из файла 'recognized_stats.txt'"
   ]
  },
  {
   "cell_type": "code",
   "execution_count": null,
   "metadata": {},
   "outputs": [],
   "source": [
    "distances = []\n",
    "\n",
    "f = open('recognized_stats.txt', mode = 'r', encoding = 'utf-8')\n",
    "\n",
    "lines = [line.strip().split(';') for line in f]\n",
    "\n",
    "for line in lines:\n",
    "    \n",
    "    for rec in line:\n",
    "        recognized_name, real_name, distance = rec.split(',')\n",
    "        print(recognized_name, real_name, distance)"
   ]
  },
  {
   "cell_type": "markdown",
   "metadata": {},
   "source": [
    "### Сортировка словаря"
   ]
  },
  {
   "cell_type": "code",
   "execution_count": null,
   "metadata": {},
   "outputs": [],
   "source": [
    "for recognized_name in speech_recognition:\n",
    "    distances = {real_name: Levenshtein.distance(recognized_name, real_name) for real_name in claim_list}\n",
    "    print(distances)\n",
    "    \n",
    "    break"
   ]
  },
  {
   "cell_type": "code",
   "execution_count": null,
   "metadata": {},
   "outputs": [],
   "source": [
    "# x[1] - сортировка по значениям словаря по возрастанию (если надо по убыванию - добавляем минус перед x[1])\n",
    "# x[0] - по ключам\n",
    "sorted(distances.items(), key = lambda x: x[1])"
   ]
  },
  {
   "cell_type": "code",
   "execution_count": null,
   "metadata": {},
   "outputs": [],
   "source": [
    "#Создаем словарь ключами в котором будут распознанные фамилии, а значениями минимальное расстояние\n",
    "sl=dict()\n",
    "for recognized_name in speech_recognition:\n",
    "#Устанавливаем заведомо большое минимальное значение\n",
    "    minValue = 999\n",
    "    for real_name in claim_list:\n",
    "        k = Levenshtein.distance(recognized_name, real_name)\n",
    "#Сравниваем новое значение расстояния с текущим минимальным, если текущее меньше, то обновляем словарь\n",
    "        if k<minValue:\n",
    "            minValue=k\n",
    "            sl[recognized_name]=k\n",
    "sl"
   ]
  },
  {
   "cell_type": "code",
   "execution_count": null,
   "metadata": {},
   "outputs": [],
   "source": [
    "#Создаем словарь, где каждому распознанному значению сопоставим значение из протокола\n",
    "sl2=dict()\n",
    "for r in sl:\n",
    "    for real_name in claim_list:\n",
    "#Высчитываем расстояние между текущим словом из словаря и \n",
    "        k = Levenshtein.distance(r, real_name)\n",
    "#Сравниваем полученное расстояение с минимальным для текущего распознанного значения, если они равны, то в новый словарь\n",
    "        #добавляем новую запись\n",
    "        if k == sl[r]:\n",
    "            sl2[r]=real_name\n",
    "sl2"
   ]
  }
 ],
 "metadata": {
  "kernelspec": {
   "display_name": "Python 3",
   "language": "python",
   "name": "python3"
  },
  "language_info": {
   "codemirror_mode": {
    "name": "ipython",
    "version": 3
   },
   "file_extension": ".py",
   "mimetype": "text/x-python",
   "name": "python",
   "nbconvert_exporter": "python",
   "pygments_lexer": "ipython3",
   "version": "3.7.0"
  }
 },
 "nbformat": 4,
 "nbformat_minor": 2
}
